{
  "cells": [
    {
      "cell_type": "code",
      "execution_count": null,
      "metadata": {
        "id": "XvKCR-7bTgHs"
      },
      "outputs": [],
      "source": [
        "# !pip install transformers\n",
        "# !pip install catboost"
      ]
    },
    {
      "cell_type": "code",
      "execution_count": null,
      "metadata": {
        "id": "W68Rs2ktBZcD"
      },
      "outputs": [],
      "source": [
        "import numpy as np\n",
        "import pandas as pd\n",
        "import seaborn as sns\n",
        "\n",
        "import matplotlib.pyplot as plt\n",
        "\n",
        "from sklearn.model_selection import train_test_split\n",
        "\n",
        "from sklearn.metrics import mean_squared_error\n",
        "\n",
        "import transformers\n",
        "from transformers import BertTokenizer, BertModel\n",
        "\n",
        "import torch\n",
        "from catboost import CatBoostRegressor\n",
        "from sklearn.ensemble import RandomForestRegressor\n",
        "\n",
        "from xgboost import XGBClassifier\n",
        "from lightgbm import LGBMClassifier"
      ]
    },
    {
      "cell_type": "code",
      "execution_count": null,
      "metadata": {
        "id": "oUn9luTKjmBS"
      },
      "outputs": [],
      "source": [
        "data = pd.read_excel('/content/train.xlsx')\n",
        "test = pd.read_excel('/content/test.xlsx')"
      ]
    },
    {
      "cell_type": "code",
      "execution_count": null,
      "metadata": {
        "colab": {
          "base_uri": "https://localhost:8080/",
          "height": 300
        },
        "id": "RnkFrJGMkrom",
        "outputId": "15ac088e-1735-455c-f7fb-404faa994c25"
      },
      "outputs": [
        {
          "output_type": "execute_result",
          "data": {
            "text/plain": [
              "       tutor_rating  tutor_reviews   mean_price\n",
              "count   3959.000000    4548.000000  4548.000000\n",
              "mean       1.895933       2.989006    16.197949\n",
              "std        2.280103       8.516939    10.485108\n",
              "min        0.000000       0.000000     0.041667\n",
              "25%        0.000000       0.000000    10.000000\n",
              "50%        0.000000       0.000000    15.000000\n",
              "75%        4.000000       2.000000    20.888889\n",
              "max        5.000000     152.000000   100.000000"
            ],
            "text/html": [
              "\n",
              "\n",
              "  <div id=\"df-806d501a-31d1-48af-b32d-b2c3c7ca5c4b\">\n",
              "    <div class=\"colab-df-container\">\n",
              "      <div>\n",
              "<style scoped>\n",
              "    .dataframe tbody tr th:only-of-type {\n",
              "        vertical-align: middle;\n",
              "    }\n",
              "\n",
              "    .dataframe tbody tr th {\n",
              "        vertical-align: top;\n",
              "    }\n",
              "\n",
              "    .dataframe thead th {\n",
              "        text-align: right;\n",
              "    }\n",
              "</style>\n",
              "<table border=\"1\" class=\"dataframe\">\n",
              "  <thead>\n",
              "    <tr style=\"text-align: right;\">\n",
              "      <th></th>\n",
              "      <th>tutor_rating</th>\n",
              "      <th>tutor_reviews</th>\n",
              "      <th>mean_price</th>\n",
              "    </tr>\n",
              "  </thead>\n",
              "  <tbody>\n",
              "    <tr>\n",
              "      <th>count</th>\n",
              "      <td>3959.000000</td>\n",
              "      <td>4548.000000</td>\n",
              "      <td>4548.000000</td>\n",
              "    </tr>\n",
              "    <tr>\n",
              "      <th>mean</th>\n",
              "      <td>1.895933</td>\n",
              "      <td>2.989006</td>\n",
              "      <td>16.197949</td>\n",
              "    </tr>\n",
              "    <tr>\n",
              "      <th>std</th>\n",
              "      <td>2.280103</td>\n",
              "      <td>8.516939</td>\n",
              "      <td>10.485108</td>\n",
              "    </tr>\n",
              "    <tr>\n",
              "      <th>min</th>\n",
              "      <td>0.000000</td>\n",
              "      <td>0.000000</td>\n",
              "      <td>0.041667</td>\n",
              "    </tr>\n",
              "    <tr>\n",
              "      <th>25%</th>\n",
              "      <td>0.000000</td>\n",
              "      <td>0.000000</td>\n",
              "      <td>10.000000</td>\n",
              "    </tr>\n",
              "    <tr>\n",
              "      <th>50%</th>\n",
              "      <td>0.000000</td>\n",
              "      <td>0.000000</td>\n",
              "      <td>15.000000</td>\n",
              "    </tr>\n",
              "    <tr>\n",
              "      <th>75%</th>\n",
              "      <td>4.000000</td>\n",
              "      <td>2.000000</td>\n",
              "      <td>20.888889</td>\n",
              "    </tr>\n",
              "    <tr>\n",
              "      <th>max</th>\n",
              "      <td>5.000000</td>\n",
              "      <td>152.000000</td>\n",
              "      <td>100.000000</td>\n",
              "    </tr>\n",
              "  </tbody>\n",
              "</table>\n",
              "</div>\n",
              "      <button class=\"colab-df-convert\" onclick=\"convertToInteractive('df-806d501a-31d1-48af-b32d-b2c3c7ca5c4b')\"\n",
              "              title=\"Convert this dataframe to an interactive table.\"\n",
              "              style=\"display:none;\">\n",
              "\n",
              "  <svg xmlns=\"http://www.w3.org/2000/svg\" height=\"24px\"viewBox=\"0 0 24 24\"\n",
              "       width=\"24px\">\n",
              "    <path d=\"M0 0h24v24H0V0z\" fill=\"none\"/>\n",
              "    <path d=\"M18.56 5.44l.94 2.06.94-2.06 2.06-.94-2.06-.94-.94-2.06-.94 2.06-2.06.94zm-11 1L8.5 8.5l.94-2.06 2.06-.94-2.06-.94L8.5 2.5l-.94 2.06-2.06.94zm10 10l.94 2.06.94-2.06 2.06-.94-2.06-.94-.94-2.06-.94 2.06-2.06.94z\"/><path d=\"M17.41 7.96l-1.37-1.37c-.4-.4-.92-.59-1.43-.59-.52 0-1.04.2-1.43.59L10.3 9.45l-7.72 7.72c-.78.78-.78 2.05 0 2.83L4 21.41c.39.39.9.59 1.41.59.51 0 1.02-.2 1.41-.59l7.78-7.78 2.81-2.81c.8-.78.8-2.07 0-2.86zM5.41 20L4 18.59l7.72-7.72 1.47 1.35L5.41 20z\"/>\n",
              "  </svg>\n",
              "      </button>\n",
              "\n",
              "\n",
              "\n",
              "    <div id=\"df-aea3099e-23d0-4257-b996-682fca636949\">\n",
              "      <button class=\"colab-df-quickchart\" onclick=\"quickchart('df-aea3099e-23d0-4257-b996-682fca636949')\"\n",
              "              title=\"Suggest charts.\"\n",
              "              style=\"display:none;\">\n",
              "\n",
              "<svg xmlns=\"http://www.w3.org/2000/svg\" height=\"24px\"viewBox=\"0 0 24 24\"\n",
              "     width=\"24px\">\n",
              "    <g>\n",
              "        <path d=\"M19 3H5c-1.1 0-2 .9-2 2v14c0 1.1.9 2 2 2h14c1.1 0 2-.9 2-2V5c0-1.1-.9-2-2-2zM9 17H7v-7h2v7zm4 0h-2V7h2v10zm4 0h-2v-4h2v4z\"/>\n",
              "    </g>\n",
              "</svg>\n",
              "      </button>\n",
              "    </div>\n",
              "\n",
              "<style>\n",
              "  .colab-df-quickchart {\n",
              "    background-color: #E8F0FE;\n",
              "    border: none;\n",
              "    border-radius: 50%;\n",
              "    cursor: pointer;\n",
              "    display: none;\n",
              "    fill: #1967D2;\n",
              "    height: 32px;\n",
              "    padding: 0 0 0 0;\n",
              "    width: 32px;\n",
              "  }\n",
              "\n",
              "  .colab-df-quickchart:hover {\n",
              "    background-color: #E2EBFA;\n",
              "    box-shadow: 0px 1px 2px rgba(60, 64, 67, 0.3), 0px 1px 3px 1px rgba(60, 64, 67, 0.15);\n",
              "    fill: #174EA6;\n",
              "  }\n",
              "\n",
              "  [theme=dark] .colab-df-quickchart {\n",
              "    background-color: #3B4455;\n",
              "    fill: #D2E3FC;\n",
              "  }\n",
              "\n",
              "  [theme=dark] .colab-df-quickchart:hover {\n",
              "    background-color: #434B5C;\n",
              "    box-shadow: 0px 1px 3px 1px rgba(0, 0, 0, 0.15);\n",
              "    filter: drop-shadow(0px 1px 2px rgba(0, 0, 0, 0.3));\n",
              "    fill: #FFFFFF;\n",
              "  }\n",
              "</style>\n",
              "\n",
              "    <script>\n",
              "      async function quickchart(key) {\n",
              "        const containerElement = document.querySelector('#' + key);\n",
              "        const charts = await google.colab.kernel.invokeFunction(\n",
              "            'suggestCharts', [key], {});\n",
              "      }\n",
              "    </script>\n",
              "\n",
              "      <script>\n",
              "\n",
              "function displayQuickchartButton(domScope) {\n",
              "  let quickchartButtonEl =\n",
              "    domScope.querySelector('#df-aea3099e-23d0-4257-b996-682fca636949 button.colab-df-quickchart');\n",
              "  quickchartButtonEl.style.display =\n",
              "    google.colab.kernel.accessAllowed ? 'block' : 'none';\n",
              "}\n",
              "\n",
              "        displayQuickchartButton(document);\n",
              "      </script>\n",
              "      <style>\n",
              "    .colab-df-container {\n",
              "      display:flex;\n",
              "      flex-wrap:wrap;\n",
              "      gap: 12px;\n",
              "    }\n",
              "\n",
              "    .colab-df-convert {\n",
              "      background-color: #E8F0FE;\n",
              "      border: none;\n",
              "      border-radius: 50%;\n",
              "      cursor: pointer;\n",
              "      display: none;\n",
              "      fill: #1967D2;\n",
              "      height: 32px;\n",
              "      padding: 0 0 0 0;\n",
              "      width: 32px;\n",
              "    }\n",
              "\n",
              "    .colab-df-convert:hover {\n",
              "      background-color: #E2EBFA;\n",
              "      box-shadow: 0px 1px 2px rgba(60, 64, 67, 0.3), 0px 1px 3px 1px rgba(60, 64, 67, 0.15);\n",
              "      fill: #174EA6;\n",
              "    }\n",
              "\n",
              "    [theme=dark] .colab-df-convert {\n",
              "      background-color: #3B4455;\n",
              "      fill: #D2E3FC;\n",
              "    }\n",
              "\n",
              "    [theme=dark] .colab-df-convert:hover {\n",
              "      background-color: #434B5C;\n",
              "      box-shadow: 0px 1px 3px 1px rgba(0, 0, 0, 0.15);\n",
              "      filter: drop-shadow(0px 1px 2px rgba(0, 0, 0, 0.3));\n",
              "      fill: #FFFFFF;\n",
              "    }\n",
              "  </style>\n",
              "\n",
              "      <script>\n",
              "        const buttonEl =\n",
              "          document.querySelector('#df-806d501a-31d1-48af-b32d-b2c3c7ca5c4b button.colab-df-convert');\n",
              "        buttonEl.style.display =\n",
              "          google.colab.kernel.accessAllowed ? 'block' : 'none';\n",
              "\n",
              "        async function convertToInteractive(key) {\n",
              "          const element = document.querySelector('#df-806d501a-31d1-48af-b32d-b2c3c7ca5c4b');\n",
              "          const dataTable =\n",
              "            await google.colab.kernel.invokeFunction('convertToInteractive',\n",
              "                                                     [key], {});\n",
              "          if (!dataTable) return;\n",
              "\n",
              "          const docLinkHtml = 'Like what you see? Visit the ' +\n",
              "            '<a target=\"_blank\" href=https://colab.research.google.com/notebooks/data_table.ipynb>data table notebook</a>'\n",
              "            + ' to learn more about interactive tables.';\n",
              "          element.innerHTML = '';\n",
              "          dataTable['output_type'] = 'display_data';\n",
              "          await google.colab.output.renderOutput(dataTable, element);\n",
              "          const docLink = document.createElement('div');\n",
              "          docLink.innerHTML = docLinkHtml;\n",
              "          element.appendChild(docLink);\n",
              "        }\n",
              "      </script>\n",
              "    </div>\n",
              "  </div>\n"
            ]
          },
          "metadata": {},
          "execution_count": 4
        }
      ],
      "source": [
        "data = data.drop(columns = 'Unnamed: 0')\n",
        "test = test.drop(columns = 'Unnamed: 0')\n",
        "data.describe()"
      ]
    },
    {
      "cell_type": "code",
      "execution_count": null,
      "metadata": {
        "colab": {
          "base_uri": "https://localhost:8080/"
        },
        "id": "-P_jz8YVkKT3",
        "outputId": "d0788666-5063-4012-a649-80d077ca96d5"
      },
      "outputs": [
        {
          "output_type": "stream",
          "name": "stdout",
          "text": [
            "<class 'pandas.core.frame.DataFrame'>\n",
            "RangeIndex: 4548 entries, 0 to 4547\n",
            "Data columns (total 27 columns):\n",
            " #   Column            Non-Null Count  Dtype  \n",
            "---  ------            --------------  -----  \n",
            " 0   предмет           4548 non-null   object \n",
            " 1   ФИО               4548 non-null   object \n",
            " 2   tutor_head_tags   4548 non-null   object \n",
            " 3   tutor_rating      3959 non-null   float64\n",
            " 4   tutor_reviews     4548 non-null   int64  \n",
            " 5   description       4547 non-null   object \n",
            " 6   experience_desc   2171 non-null   object \n",
            " 7   Education_1       4548 non-null   object \n",
            " 8   Desc_Education_1  4472 non-null   object \n",
            " 9   Education_2       781 non-null    object \n",
            " 10  Desc_Education_2  777 non-null    object \n",
            " 11  Education_3       106 non-null    object \n",
            " 12  Desc_Education_3  105 non-null    object \n",
            " 13  Education_4       16 non-null     object \n",
            " 14  Desc_Education_4  16 non-null     object \n",
            " 15  Ученая степень 1  76 non-null     object \n",
            " 16  Ученое звание 1   35 non-null     object \n",
            " 17  status            4535 non-null   object \n",
            " 18  experience        4523 non-null   object \n",
            " 19  Desc_Education_5  3 non-null      object \n",
            " 20  Desc_Education_6  1 non-null      object \n",
            " 21  Education_5       3 non-null      object \n",
            " 22  Education_6       1 non-null      object \n",
            " 23  Ученая степень 2  1 non-null      object \n",
            " 24  Ученое звание 2   1 non-null      object \n",
            " 25  categories        4548 non-null   object \n",
            " 26  mean_price        4548 non-null   float64\n",
            "dtypes: float64(2), int64(1), object(24)\n",
            "memory usage: 959.5+ KB\n"
          ]
        }
      ],
      "source": [
        "data.info()"
      ]
    },
    {
      "cell_type": "markdown",
      "metadata": {
        "id": "eetNCOpjk5Tt"
      },
      "source": [
        "Уберем столбцы, где почти все пропуски, т.к. они не несут в себе важную информацию, а так же ФИО не влияет на зарплату"
      ]
    },
    {
      "cell_type": "code",
      "execution_count": null,
      "metadata": {
        "id": "A3r3jUl-ko6v"
      },
      "outputs": [],
      "source": [
        "data = data.drop(columns = ['Education_3', 'Education_4', 'Desc_Education_3','Desc_Education_4', 'Desc_Education_5', 'Desc_Education_6', 'Education_5', 'Education_6', 'Ученая степень 2', 'Ученое звание 2', 'ФИО'])\n",
        "test = test.drop(columns = ['Education_3', 'Education_4', 'Desc_Education_3','Desc_Education_4', 'Desc_Education_5', 'Desc_Education_6', 'Education_5', 'Education_6', 'Ученая степень 2', 'Ученое звание 2', 'ФИО'])"
      ]
    },
    {
      "cell_type": "code",
      "source": [
        "data = data.drop(columns = ['Ученая степень 1', 'Ученое звание 1'])\n",
        "test = test.drop(columns = ['Ученая степень 1', 'Ученое звание 1'])"
      ],
      "metadata": {
        "id": "kL-eGHSO8qUU"
      },
      "execution_count": null,
      "outputs": []
    },
    {
      "cell_type": "code",
      "execution_count": null,
      "metadata": {
        "colab": {
          "base_uri": "https://localhost:8080/"
        },
        "id": "As6zi_Mfw98E",
        "outputId": "4b5a8c62-35f0-4e5e-b536-8c0ba3179994"
      },
      "outputs": [
        {
          "output_type": "stream",
          "name": "stdout",
          "text": [
            "<class 'pandas.core.frame.DataFrame'>\n",
            "RangeIndex: 4548 entries, 0 to 4547\n",
            "Data columns (total 14 columns):\n",
            " #   Column            Non-Null Count  Dtype  \n",
            "---  ------            --------------  -----  \n",
            " 0   предмет           4548 non-null   object \n",
            " 1   tutor_head_tags   4548 non-null   object \n",
            " 2   tutor_rating      3959 non-null   float64\n",
            " 3   tutor_reviews     4548 non-null   int64  \n",
            " 4   description       4547 non-null   object \n",
            " 5   experience_desc   2171 non-null   object \n",
            " 6   Education_1       4548 non-null   object \n",
            " 7   Desc_Education_1  4472 non-null   object \n",
            " 8   Education_2       781 non-null    object \n",
            " 9   Desc_Education_2  777 non-null    object \n",
            " 10  status            4535 non-null   object \n",
            " 11  experience        4523 non-null   object \n",
            " 12  categories        4548 non-null   object \n",
            " 13  mean_price        4548 non-null   float64\n",
            "dtypes: float64(2), int64(1), object(11)\n",
            "memory usage: 497.6+ KB\n"
          ]
        }
      ],
      "source": [
        "data.info()"
      ]
    },
    {
      "cell_type": "markdown",
      "metadata": {
        "id": "WnJ0UVWYy-XZ"
      },
      "source": [
        "Заполним пропуски"
      ]
    },
    {
      "cell_type": "code",
      "execution_count": null,
      "metadata": {
        "colab": {
          "base_uri": "https://localhost:8080/"
        },
        "id": "YId1D57MzAej",
        "outputId": "9be77410-4bd5-4c5a-e6b0-e096b7db8542"
      },
      "outputs": [
        {
          "output_type": "execute_result",
          "data": {
            "text/plain": [
              "предмет                0\n",
              "tutor_head_tags        0\n",
              "tutor_rating         589\n",
              "tutor_reviews          0\n",
              "description            1\n",
              "experience_desc     2377\n",
              "Education_1            0\n",
              "Desc_Education_1      76\n",
              "Education_2         3767\n",
              "Desc_Education_2    3771\n",
              "status                13\n",
              "experience            25\n",
              "categories             0\n",
              "mean_price             0\n",
              "dtype: int64"
            ]
          },
          "metadata": {},
          "execution_count": 9
        }
      ],
      "source": [
        "data.isna().sum()"
      ]
    },
    {
      "cell_type": "markdown",
      "metadata": {
        "id": "kmjEiKP_zIfk"
      },
      "source": [
        "Если tutor_rating пропущена, то это должен быть новый пользователь и рейтинга у него нет"
      ]
    },
    {
      "cell_type": "code",
      "execution_count": null,
      "metadata": {
        "colab": {
          "base_uri": "https://localhost:8080/"
        },
        "id": "q-vm0srfzCUX",
        "outputId": "63df2439-5fa0-4eb8-d8b4-e7c6165eb10e"
      },
      "outputs": [
        {
          "output_type": "execute_result",
          "data": {
            "text/plain": [
              "0       5.0\n",
              "1       4.0\n",
              "2       0.0\n",
              "3       4.0\n",
              "4       0.0\n",
              "       ... \n",
              "4543    4.0\n",
              "4544    0.0\n",
              "4545    0.0\n",
              "4546    0.0\n",
              "4547    0.0\n",
              "Name: tutor_rating, Length: 4548, dtype: float64"
            ]
          },
          "metadata": {},
          "execution_count": 10
        }
      ],
      "source": [
        "data['tutor_rating']"
      ]
    },
    {
      "cell_type": "code",
      "execution_count": null,
      "metadata": {
        "id": "BGuiJ9_KzSfH"
      },
      "outputs": [],
      "source": [
        "data['tutor_rating'] = data['tutor_rating'].fillna(0)\n",
        "\n",
        "test['tutor_rating'] = test['tutor_rating'].fillna(0)"
      ]
    },
    {
      "cell_type": "markdown",
      "metadata": {
        "id": "7btzGj4uzfaP"
      },
      "source": [
        "Если description пропущено, то можем просто заемнить его пустой строкой"
      ]
    },
    {
      "cell_type": "code",
      "execution_count": null,
      "metadata": {
        "id": "xqmsxPF9zX8o"
      },
      "outputs": [],
      "source": [
        "data['description'] = data['description'].fillna('')\n",
        "\n",
        "test['description'] = test['description'].fillna('')"
      ]
    },
    {
      "cell_type": "markdown",
      "metadata": {
        "id": "IFZTD3-0zruZ"
      },
      "source": [
        "Аналогично с experience_description и desc_eductation"
      ]
    },
    {
      "cell_type": "code",
      "execution_count": null,
      "metadata": {
        "id": "wVkz_TlMzq8-"
      },
      "outputs": [],
      "source": [
        "data['experience_desc'] = data['experience_desc'].fillna('')\n",
        "data['Desc_Education_1'] = data['Desc_Education_1'].fillna('')\n",
        "data['Desc_Education_2'] = data['Desc_Education_2'].fillna('')\n",
        "# data['Desc_Education_3'] = data['Desc_Education_3'].fillna('')\n",
        "# data['Desc_Education_4'] = data['Desc_Education_4'].fillna('')\n",
        "\n",
        "test['experience_desc'] = test['experience_desc'].fillna('')\n",
        "test['Desc_Education_1'] = test['Desc_Education_1'].fillna('')\n",
        "test['Desc_Education_2'] = test['Desc_Education_2'].fillna('')\n",
        "# test['Desc_Education_3'] = test['Desc_Education_3'].fillna('')\n",
        "# test['Desc_Education_4'] = test['Desc_Education_4'].fillna('')"
      ]
    },
    {
      "cell_type": "markdown",
      "metadata": {
        "id": "GsMJ4e5X0XGN"
      },
      "source": [
        "Если какое-то из образований пропущено, то, скорее всего, его просто нет"
      ]
    },
    {
      "cell_type": "code",
      "execution_count": null,
      "metadata": {
        "id": "RpbNPSMw0oOO"
      },
      "outputs": [],
      "source": [
        "data['Education_2'] = data['Education_2'].fillna('')\n",
        "# data['Education_3'] = data['Education_3'].fillna('')\n",
        "# # data['Education_4'] = data['Education_4'].fillna('')\n",
        "# data['Ученая степень 1'] = data['Ученая степень 1'].fillna('')\n",
        "# data['Ученое звание 1'] = data['Ученое звание 1'].fillna('')\n",
        "\n",
        "test['Education_2'] = test['Education_2'].fillna('')\n",
        "# test['Education_3'] = test['Education_3'].fillna('')\n",
        "# test['Education_4'] = test['Education_4'].fillna('')\n",
        "# test['Ученая степень 1'] = test['Ученая степень 1'].fillna('')\n",
        "# test['Ученое звание 1'] = test['Ученое звание 1'].fillna('')"
      ]
    },
    {
      "cell_type": "code",
      "execution_count": null,
      "metadata": {
        "id": "O0rZbto31Gam"
      },
      "outputs": [],
      "source": [
        "data['status'] = data['status'].fillna('')\n",
        "\n",
        "test['status'] = test['status'].fillna('')"
      ]
    },
    {
      "cell_type": "markdown",
      "metadata": {
        "id": "s4qTl62g1Z57"
      },
      "source": [
        "Если experience не указан, тог можем предположин, что это новый репетитор без опыта работы"
      ]
    },
    {
      "cell_type": "code",
      "execution_count": null,
      "metadata": {
        "id": "s8Bq4KJ2z2EW"
      },
      "outputs": [],
      "source": [
        "data['experience'] = data['experience'].fillna('0 лет')\n",
        "\n",
        "test['experience'] = test['experience'].fillna('0 лет')"
      ]
    },
    {
      "cell_type": "code",
      "execution_count": null,
      "metadata": {
        "colab": {
          "base_uri": "https://localhost:8080/"
        },
        "id": "iOB9wE771to0",
        "outputId": "8b4cb97d-a774-4446-e6b4-bf8273054a08"
      },
      "outputs": [
        {
          "output_type": "execute_result",
          "data": {
            "text/plain": [
              "предмет             0\n",
              "tutor_head_tags     0\n",
              "tutor_rating        0\n",
              "tutor_reviews       0\n",
              "description         0\n",
              "experience_desc     0\n",
              "Education_1         0\n",
              "Desc_Education_1    0\n",
              "Education_2         0\n",
              "Desc_Education_2    0\n",
              "status              0\n",
              "experience          0\n",
              "categories          0\n",
              "mean_price          0\n",
              "dtype: int64"
            ]
          },
          "metadata": {},
          "execution_count": 17
        }
      ],
      "source": [
        "data.isna().sum()"
      ]
    },
    {
      "cell_type": "markdown",
      "metadata": {
        "id": "jEzdz-HDrXvl"
      },
      "source": [
        "Теперь преобразуем каждый столбец\n"
      ]
    },
    {
      "cell_type": "markdown",
      "metadata": {
        "id": "Sd866Ltg7tiX"
      },
      "source": [
        "Теги репетитора кодируем с помощью one-hot-encoding"
      ]
    },
    {
      "cell_type": "code",
      "execution_count": null,
      "metadata": {
        "id": "Qj8IlC6dlbfO"
      },
      "outputs": [],
      "source": [
        "from sklearn.preprocessing import MultiLabelBinarizer\n",
        "# Разбиваем массивы на отдельные элементы\n",
        "exploded_tags = data['tutor_head_tags'].explode().reset_index(drop=True)\n",
        "# Создаем экземпляр MultiLabelBinarizer\n",
        "mlb = MultiLabelBinarizer()\n",
        "# Преобразуем каждый элемент в список\n",
        "tags_list = [eval(tag) for tag in exploded_tags]\n",
        "# Кодируем метки\n",
        "encoded_tags = mlb.fit_transform(tags_list)\n",
        "# Создаем новый столбец для каждой метки\n",
        "for i, label in enumerate(mlb.classes_):\n",
        "    data[label] = encoded_tags[:, i]"
      ]
    },
    {
      "cell_type": "code",
      "execution_count": null,
      "metadata": {
        "id": "0EtlI9jTmnXe"
      },
      "outputs": [],
      "source": [
        "from sklearn.preprocessing import MultiLabelBinarizer\n",
        "exploded_tags = test['tutor_head_tags'].explode().reset_index(drop=True)\n",
        "mlb = MultiLabelBinarizer()\n",
        "tags_list = [eval(tag) for tag in exploded_tags]\n",
        "encoded_tags = mlb.fit_transform(tags_list)\n",
        "for i, label in enumerate(mlb.classes_):\n",
        "    test[label] = encoded_tags[:, i]"
      ]
    },
    {
      "cell_type": "code",
      "execution_count": null,
      "metadata": {
        "id": "6gx51P64qNGN"
      },
      "outputs": [],
      "source": [
        "data = data.drop(columns = 'tutor_head_tags')\n",
        "\n",
        "test = test.drop(columns = 'tutor_head_tags')"
      ]
    },
    {
      "cell_type": "code",
      "execution_count": null,
      "metadata": {
        "colab": {
          "base_uri": "https://localhost:8080/"
        },
        "id": "xpl2hfc4qOEc",
        "outputId": "c977ef13-1369-4fef-b252-397740b3be73"
      },
      "outputs": [
        {
          "output_type": "execute_result",
          "data": {
            "text/plain": [
              "matematika     3685\n",
              "informatika     863\n",
              "Name: предмет, dtype: int64"
            ]
          },
          "metadata": {},
          "execution_count": 21
        }
      ],
      "source": [
        "data['предмет'].value_counts()"
      ]
    },
    {
      "cell_type": "markdown",
      "metadata": {
        "id": "GZvnXsM875ee"
      },
      "source": [
        "Предмет так же кодируем с помощью OHE"
      ]
    },
    {
      "cell_type": "code",
      "execution_count": null,
      "metadata": {
        "id": "UTgaEvLrrr7y"
      },
      "outputs": [],
      "source": [
        "data['предмет'] = data['предмет'].replace({'matematika': 1, 'informatika': 0})\n",
        "\n",
        "test['предмет'] = test['предмет'].replace({'matematika': 1, 'informatika': 0})"
      ]
    },
    {
      "cell_type": "markdown",
      "metadata": {
        "id": "zAXrhlnGtlef"
      },
      "source": [
        "В колокне 'description' будет содержаться информация о том, написал ли свое описание репетитор"
      ]
    },
    {
      "cell_type": "code",
      "execution_count": null,
      "metadata": {
        "id": "WnOJ0G70sqIA"
      },
      "outputs": [],
      "source": [
        "# data['description'] = data['description'].map({'Репетитор не предоставил о себе дополнительных сведений': 1}).fillna(0)\n",
        "\n",
        "# test['description'] = test['description'].map({'Репетитор не предоставил о себе дополнительных сведений': 1}).fillna(0)"
      ]
    },
    {
      "cell_type": "markdown",
      "metadata": {
        "id": "4eUHXg_z8GPi"
      },
      "source": [
        "Разделим описание образование на Год окончания, факлуьтет и специальность"
      ]
    },
    {
      "cell_type": "code",
      "execution_count": null,
      "metadata": {
        "id": "SZdRRbFCtUqP"
      },
      "outputs": [],
      "source": [
        "data['Год_окончания'] = data['Desc_Education_1'].str.extract(r'Год окончания: (\\d+)')\n",
        "data['Факультет'] = data['Desc_Education_1'].str.extract(r'Факультет: ([^,]+)')\n",
        "data['Специальность'] = data['Desc_Education_1'].str.extract(r'Специальность: ([^,]+)')\n",
        "\n",
        "test['Год_окончания'] = test['Desc_Education_1'].str.extract(r'Год окончания: (\\d+)')\n",
        "test['Факультет'] = test['Desc_Education_1'].str.extract(r'Факультет: ([^,]+)')\n",
        "test['Специальность'] = test['Desc_Education_1'].str.extract(r'Специальность: ([^,]+)')"
      ]
    },
    {
      "cell_type": "code",
      "execution_count": null,
      "metadata": {
        "id": "Ol4v3Gp-9n1l"
      },
      "outputs": [],
      "source": [
        "data['Год_окончания_2'] = data['Desc_Education_2'].str.extract(r'Год окончания: (\\d+)')\n",
        "data['Факультет_2'] = data['Desc_Education_2'].str.extract(r'Факультет: ([^,]+)')\n",
        "data['Специальность_2'] = data['Desc_Education_2'].str.extract(r'Специальность: ([^,]+)')\n",
        "\n",
        "test['Год_окончания_2'] = test['Desc_Education_2'].str.extract(r'Год окончания: (\\d+)')\n",
        "test['Факультет_2'] = test['Desc_Education_2'].str.extract(r'Факультет: ([^,]+)')\n",
        "test['Специальность_2'] = test['Desc_Education_2'].str.extract(r'Специальность: ([^,]+)')"
      ]
    },
    {
      "cell_type": "code",
      "execution_count": null,
      "metadata": {
        "id": "qNApa_KBnKDz"
      },
      "outputs": [],
      "source": [
        "# data['Год_окончания_3'] = data['Desc_Education_3'].str.extract(r'Год окончания: (\\d+)')\n",
        "# data['Факультет_3'] = data['Desc_Education_3'].str.extract(r'Факультет: ([^,]+)')\n",
        "# data['Специальность_3'] = data['Desc_Education_3'].str.extract(r'Специальность: ([^,]+)')\n",
        "\n",
        "# test['Год_окончания_3'] = test['Desc_Education_3'].str.extract(r'Год окончания: (\\d+)')\n",
        "# test['Факультет_3'] = test['Desc_Education_3'].str.extract(r'Факультет: ([^,]+)')\n",
        "# test['Специальность_3'] = test['Desc_Education_3'].str.extract(r'Специальность: ([^,]+)')"
      ]
    },
    {
      "cell_type": "code",
      "execution_count": null,
      "metadata": {
        "id": "uiGXqwRr90eM"
      },
      "outputs": [],
      "source": [
        "# data['Год_окончания_4'] = data['Desc_Education_4'].str.extract(r'Год окончания: (\\d+)')\n",
        "# data['Факультет_4'] = data['Desc_Education_4'].str.extract(r'Факультет: ([^,]+)')\n",
        "# data['Специальность_4'] = data['Desc_Education_4'].str.extract(r'Специальность: ([^,]+)')\n",
        "\n",
        "# test['Год_окончания_4'] = test['Desc_Education_4'].str.extract(r'Год окончания: (\\d+)')\n",
        "# test['Факультет_4'] = test['Desc_Education_4'].str.extract(r'Факультет: ([^,]+)')\n",
        "# test['Специальность_4'] = test['Desc_Education_4'].str.extract(r'Специальность: ([^,]+)')\n",
        "\n",
        "data = data.drop(columns = ['Desc_Education_1', 'Desc_Education_2'])\n",
        "\n",
        "test = test.drop(columns = ['Desc_Education_1', 'Desc_Education_2'])"
      ]
    },
    {
      "cell_type": "code",
      "execution_count": null,
      "metadata": {
        "id": "3EdFxxfk2Wh0"
      },
      "outputs": [],
      "source": [
        "data['Год_окончания'] = data['Год_окончания'].fillna(0)\n",
        "data['Год_окончания_2'] = data['Год_окончания_2'].fillna(0)\n",
        "# data['Год_окончания_3'] = data['Год_окончания_3'].fillna(0)\n",
        "# data['Год_окончания_4'] = data['Год_окончания_4'].fillna(0)\n",
        "data = data.fillna('')\n",
        "\n",
        "test['Год_окончания'] = test['Год_окончания'].fillna(0)\n",
        "test['Год_окончания_2'] = test['Год_окончания_2'].fillna(0)\n",
        "# test['Год_окончания_3'] = test['Год_окончания_3'].fillna(0)\n",
        "# test['Год_окончания_4'] = test['Год_окончания_4'].fillna(0)\n",
        "test = test.fillna('')"
      ]
    },
    {
      "cell_type": "markdown",
      "metadata": {
        "id": "pRLTO5db8P5M"
      },
      "source": [
        "Категории кодируем с помощью OHE"
      ]
    },
    {
      "cell_type": "code",
      "execution_count": null,
      "metadata": {
        "colab": {
          "base_uri": "https://localhost:8080/"
        },
        "id": "t7Ck16bbvZgT",
        "outputId": "288a0107-d339-4f87-cef2-549e490c4e7d"
      },
      "outputs": [
        {
          "output_type": "stream",
          "name": "stderr",
          "text": [
            "/usr/local/lib/python3.10/dist-packages/sklearn/preprocessing/_label.py:895: UserWarning: unknown class(es) ['Студенты университетов группа'] will be ignored\n",
            "  warnings.warn(\n"
          ]
        }
      ],
      "source": [
        "# Применение explode к столбцу с категориями в обучающем наборе данных\n",
        "exploded_tags_train = data['categories'].explode().reset_index(drop=True)\n",
        "\n",
        "# Преобразование списка в массив строк\n",
        "tags_list_train = [eval(tag) for tag in exploded_tags_train]\n",
        "\n",
        "# Создание и обучение MultiLabelBinarizer на обучающем наборе данных\n",
        "mlb = MultiLabelBinarizer()\n",
        "encoded_tags_train = mlb.fit_transform(tags_list_train)\n",
        "\n",
        "# Применение One-Hot Encoding на обучающем наборе данных\n",
        "for i, label in enumerate(mlb.classes_):\n",
        "    data[label] = encoded_tags_train[:, i]\n",
        "\n",
        "# Удаление столбца с категориями из обучающего набора данных\n",
        "data = data.drop(columns='categories')\n",
        "\n",
        "\n",
        "exploded_tags_test = test['categories'].explode().reset_index(drop=True)\n",
        "tags_list_test = [eval(tag) for tag in exploded_tags_test]\n",
        "encoded_tags_test = mlb.transform(tags_list_test)\n",
        "for i, label in enumerate(mlb.classes_):\n",
        "    test[label] = encoded_tags_test[:, i]\n",
        "test = test.drop(columns='categories')\n",
        "\n"
      ]
    },
    {
      "cell_type": "markdown",
      "metadata": {
        "id": "n3gQRZifAXzI"
      },
      "source": [
        "В experience нам нужно только число, оставим его"
      ]
    },
    {
      "cell_type": "code",
      "execution_count": null,
      "metadata": {
        "id": "EwDjXbCEAeoJ"
      },
      "outputs": [],
      "source": [
        "data['experience'] = data['experience'].str.extract(r'(\\d+)')\n",
        "\n",
        "test['experience'] = test['experience'].str.extract(r'(\\d+)')"
      ]
    },
    {
      "cell_type": "code",
      "execution_count": null,
      "metadata": {
        "id": "8HkkPY0tiP00",
        "colab": {
          "base_uri": "https://localhost:8080/"
        },
        "outputId": "423fdc8a-206a-472c-de34-abf1563de883"
      },
      "outputs": [
        {
          "output_type": "stream",
          "name": "stdout",
          "text": [
            "<class 'pandas.core.frame.DataFrame'>\n",
            "RangeIndex: 4548 entries, 0 to 4547\n",
            "Data columns (total 52 columns):\n",
            " #   Column                                                                           Non-Null Count  Dtype  \n",
            "---  ------                                                                           --------------  -----  \n",
            " 0   предмет                                                                          4548 non-null   int64  \n",
            " 1   tutor_rating                                                                     4548 non-null   float64\n",
            " 2   tutor_reviews                                                                    4548 non-null   int64  \n",
            " 3   description                                                                      4548 non-null   object \n",
            " 4   experience_desc                                                                  4548 non-null   object \n",
            " 5   Education_1                                                                      4548 non-null   object \n",
            " 6   Education_2                                                                      4548 non-null   object \n",
            " 7   status                                                                           4548 non-null   object \n",
            " 8   experience                                                                       4548 non-null   object \n",
            " 9   mean_price                                                                       4548 non-null   float64\n",
            " 10  A-level                                                                          4548 non-null   int64  \n",
            " 11  Elementary Mathematics in English                                                4548 non-null   int64  \n",
            " 12  GMAT (математическая часть)                                                      4548 non-null   int64  \n",
            " 13  Higher Mathematics in English - высшая математика на английском языке            4548 non-null   int64  \n",
            " 14  Mathematik auf Deutsch                                                           4548 non-null   int64  \n",
            " 15  SAT (математическая часть)                                                       4548 non-null   int64  \n",
            " 16  Аналитическая геометрия                                                          4548 non-null   int64  \n",
            " 17  Дискретная математика                                                            4548 non-null   int64  \n",
            " 18  Дифференциальные уравнения                                                       4548 non-null   int64  \n",
            " 19  Линейная алгебра                                                                 4548 non-null   int64  \n",
            " 20  Математическая логика                                                            4548 non-null   int64  \n",
            " 21  Математический анализ                                                            4548 non-null   int64  \n",
            " 22  Подготовка к ЕГЭ                                                                 4548 non-null   int64  \n",
            " 23  Подготовка к ОГЭ                                                                 4548 non-null   int64  \n",
            " 24  Подготовка к олимпиадам                                                          4548 non-null   int64  \n",
            " 25  ТФКП                                                                             4548 non-null   int64  \n",
            " 26  Теория вероятности и мат. статистика                                             4548 non-null   int64  \n",
            " 27  Уравнения мат физики                                                             4548 non-null   int64  \n",
            " 28  Школьная программа                                                               4548 non-null   int64  \n",
            " 29  Год_окончания                                                                    4548 non-null   object \n",
            " 30  Факультет                                                                        4548 non-null   object \n",
            " 31  Специальность                                                                    4548 non-null   object \n",
            " 32  Год_окончания_2                                                                  4548 non-null   object \n",
            " 33  Факультет_2                                                                      4548 non-null   object \n",
            " 34  Специальность_2                                                                  4548 non-null   object \n",
            " 35  Взрослые кроме абитуриентов и студентов                                          4548 non-null   int64  \n",
            " 36  Взрослые кроме абитуриентов и студентов в паре                                   4548 non-null   int64  \n",
            " 37  Взрослые кроме абитуриентов и студентов группа                                   4548 non-null   int64  \n",
            " 38  Дошкольники                                                                      4548 non-null   int64  \n",
            " 39  Дошкольники в паре                                                               4548 non-null   int64  \n",
            " 40  Дошкольники группа                                                               4548 non-null   int64  \n",
            " 41  Студенты университетов                                                           4548 non-null   int64  \n",
            " 42  Студенты университетов в паре                                                    4548 non-null   int64  \n",
            " 43  Школьники с 1 по 4 класс                                                         4548 non-null   int64  \n",
            " 44  Школьники с 1 по 4 класс в паре                                                  4548 non-null   int64  \n",
            " 45  Школьники с 1 по 4 класс группа                                                  4548 non-null   int64  \n",
            " 46  Школьники с 10 по 11 класс, студенты колледжей и техникумов, абитуриенты         4548 non-null   int64  \n",
            " 47  Школьники с 10 по 11 класс, студенты колледжей и техникумов, абитуриенты в паре  4548 non-null   int64  \n",
            " 48  Школьники с 10 по 11 класс, студенты колледжей и техникумов, абитуриенты группа  4548 non-null   int64  \n",
            " 49  Школьники с 5 по 9 класс                                                         4548 non-null   int64  \n",
            " 50  Школьники с 5 по 9 класс в паре                                                  4548 non-null   int64  \n",
            " 51  Школьники с 5 по 9 класс группа                                                  4548 non-null   int64  \n",
            "dtypes: float64(2), int64(38), object(12)\n",
            "memory usage: 1.8+ MB\n"
          ]
        }
      ],
      "source": [
        "data.info()"
      ]
    },
    {
      "cell_type": "markdown",
      "metadata": {
        "id": "CZhT1Lbo-ERN"
      },
      "source": [
        "Заполним пропуски"
      ]
    },
    {
      "cell_type": "markdown",
      "metadata": {
        "id": "3yXq-qGv-oX5"
      },
      "source": [
        "Если рейтинг репетитора - NaN, вероятно, у него нет отзывов и можем поставить 0 в эту колонку.\n",
        "\n",
        "Аналогично предположим, что если experience = NaN, то он равен 0"
      ]
    },
    {
      "cell_type": "code",
      "execution_count": null,
      "metadata": {
        "id": "M64BpDzzkkJe"
      },
      "outputs": [],
      "source": [
        "data['Год_окончания'] = data['Год_окончания'].astype(int)\n",
        "data['Год_окончания_2'] = data['Год_окончания_2'].astype(int)\n",
        "# data['Год_окончания_3'] = data['Год_окончания_3'].astype(int)\n",
        "# data['Год_окончания_4'] = data['Год_окончания_4'].astype(int)\n",
        "data['experience'] = data['experience'].astype(int)\n",
        "\n",
        "test['Год_окончания'] = test['Год_окончания'].astype(int)\n",
        "test['Год_окончания_2'] = test['Год_окончания_2'].astype(int)\n",
        "# test['Год_окончания_3'] = test['Год_окончания_3'].astype(int)\n",
        "# test['Год_окончания_4'] = test['Год_окончания_4'].astype(int)\n",
        "test['experience'] = test['experience'].astype(int)"
      ]
    },
    {
      "cell_type": "markdown",
      "source": [
        "Здесь я попробовал закодировать с помощью CatBoostEncoder и получили результаты гораздо хуже (MSE вырос на 24)"
      ],
      "metadata": {
        "id": "XZGGDR3mJEgA"
      }
    },
    {
      "cell_type": "code",
      "source": [
        "# import pandas as pd\n",
        "# from category_encoders import CatBoostEncoder\n",
        "\n",
        "\n",
        "# emb_columns = ['Education_1', 'Education_2', 'Education_3', 'Education_4', 'description', 'experience_desc', 'Ученая степень 1', 'Ученое звание 1', 'status', 'Факультет', 'Специальность', 'Факультет_2', 'Специальность_2', 'Факультет_3', 'Специальность_3', 'Факультет_4', 'Специальность_4']\n",
        "\n",
        "# encoder = CatBoostEncoder(cols=emb_columns)\n",
        "\n",
        "# encoded_data = encoder.fit_transform(data, data['mean_price'])\n",
        "\n",
        "# data[emb_columns] = encoded_data[emb_columns]\n",
        "\n",
        "\n",
        "# emb_columns = ['Education_1', 'Education_2', 'Education_3', 'Education_4', 'description', 'experience_desc', 'Ученая степень 1', 'Ученое звание 1', 'status', 'Факультет', 'Специальность', 'Факультет_2', 'Специальность_2', 'Факультет_3', 'Специальность_3', 'Факультет_4', 'Специальность_4']\n",
        "\n",
        "# encoder = CatBoostEncoder(cols=emb_columns)\n",
        "\n",
        "# encoded_data = encoder.fit_transform(data, data['mean_price'])\n",
        "\n",
        "# test[emb_columns] = encoded_data[emb_columns]\n",
        "\n",
        "\n"
      ],
      "metadata": {
        "id": "X6s-Kh_K0zN_"
      },
      "execution_count": null,
      "outputs": []
    },
    {
      "cell_type": "code",
      "execution_count": null,
      "metadata": {
        "colab": {
          "base_uri": "https://localhost:8080/"
        },
        "id": "IwOLO4InBu1p",
        "outputId": "e96df433-7179-46fd-9d11-d9698757c070"
      },
      "outputs": [
        {
          "output_type": "stream",
          "name": "stderr",
          "text": [
            "Some weights of the model checkpoint at DeepPavlov/rubert-base-cased were not used when initializing BertModel: ['cls.seq_relationship.bias', 'cls.predictions.transform.LayerNorm.weight', 'cls.seq_relationship.weight', 'cls.predictions.decoder.weight', 'cls.predictions.transform.dense.bias', 'cls.predictions.transform.dense.weight', 'cls.predictions.bias', 'cls.predictions.decoder.bias', 'cls.predictions.transform.LayerNorm.bias']\n",
            "- This IS expected if you are initializing BertModel from the checkpoint of a model trained on another task or with another architecture (e.g. initializing a BertForSequenceClassification model from a BertForPreTraining model).\n",
            "- This IS NOT expected if you are initializing BertModel from the checkpoint of a model that you expect to be exactly identical (initializing a BertForSequenceClassification model from a BertForSequenceClassification model).\n"
          ]
        }
      ],
      "source": [
        "device = torch.device(\"cuda\" if torch.cuda.is_available() else \"cpu\")\n",
        "\n",
        "tokenizer = BertTokenizer.from_pretrained(\"DeepPavlov/rubert-base-cased\")\n",
        "\n",
        "model = BertModel.from_pretrained(\"DeepPavlov/rubert-base-cased\").to(device)"
      ]
    },
    {
      "cell_type": "markdown",
      "source": [
        "Будем кодировать с помощью предобученного BERT, с помощью него мы можем учесть сам текст в описании репетитора, а так же опытным путем получили, что в нашем случае он работает лучше, чем OHE и CatBoostEncoder"
      ],
      "metadata": {
        "id": "8SHc9LbKKUS1"
      }
    },
    {
      "cell_type": "code",
      "execution_count": null,
      "metadata": {
        "id": "Ue1xyx-SUAQT"
      },
      "outputs": [],
      "source": [
        "def get_bert_embeddings(text):\n",
        "    inputs = tokenizer(text, return_tensors=\"pt\", padding=True, truncation=True, max_length=575).to(device)\n",
        "    outputs = model(**inputs)\n",
        "    embeddings = outputs.last_hidden_state[:, 0, :].detach().cpu().numpy()\n",
        "    return embeddings[0]"
      ]
    },
    {
      "cell_type": "code",
      "execution_count": null,
      "metadata": {
        "colab": {
          "base_uri": "https://localhost:8080/"
        },
        "id": "7iXT7OgSUFVS",
        "outputId": "e06c6456-7f4c-45e0-84d0-1035171078cd"
      },
      "outputs": [
        {
          "output_type": "stream",
          "name": "stdout",
          "text": [
            "CPU times: user 1min 35s, sys: 487 ms, total: 1min 35s\n",
            "Wall time: 1min 36s\n"
          ]
        }
      ],
      "source": [
        "%%time\n",
        "data[\"Education_1\"] = data[\"Education_1\"].apply(get_bert_embeddings)\n",
        "\n",
        "test[\"Education_1\"] = test[\"Education_1\"].apply(get_bert_embeddings)"
      ]
    },
    {
      "cell_type": "code",
      "execution_count": null,
      "metadata": {
        "colab": {
          "base_uri": "https://localhost:8080/"
        },
        "id": "MYGtHcwK_Q3o",
        "outputId": "762847fa-50f3-489d-c366-76f6035b5292"
      },
      "outputs": [
        {
          "output_type": "stream",
          "name": "stdout",
          "text": [
            "CPU times: user 1min 27s, sys: 336 ms, total: 1min 27s\n",
            "Wall time: 1min 28s\n"
          ]
        }
      ],
      "source": [
        "%%time\n",
        "data[\"Education_2\"] = data[\"Education_2\"].apply(get_bert_embeddings)\n",
        "\n",
        "test[\"Education_2\"] = test[\"Education_2\"].apply(get_bert_embeddings)"
      ]
    },
    {
      "cell_type": "code",
      "execution_count": null,
      "metadata": {
        "id": "p8eXyTiB_SFR"
      },
      "outputs": [],
      "source": [
        "# %%time\n",
        "# data[\"Education_3\"] = data[\"Education_3\"].apply(get_bert_embeddings)\n",
        "\n",
        "# test[\"Education_3\"] = test[\"Education_3\"].apply(get_bert_embeddings)"
      ]
    },
    {
      "cell_type": "code",
      "execution_count": null,
      "metadata": {
        "id": "T5jAPlrb_SlR"
      },
      "outputs": [],
      "source": [
        "# %%time\n",
        "# data[\"Education_4\"] = data[\"Education_4\"].apply(get_bert_embeddings)\n",
        "\n",
        "# test[\"Education_4\"] = test[\"Education_4\"].apply(get_bert_embeddings)"
      ]
    },
    {
      "cell_type": "code",
      "execution_count": null,
      "metadata": {
        "id": "jtg7Kph1KY5G"
      },
      "outputs": [],
      "source": [
        "max_length = 512\n",
        "\n",
        "data[\"description\"] = data[\"description\"].apply(lambda x: x[:max_length] if isinstance(x, str) else '')\n",
        "data[\"experience_desc\"] = data[\"experience_desc\"].apply(lambda x: x[:max_length] if isinstance(x, str) else '')\n",
        "\n",
        "test[\"description\"] = test[\"description\"].apply(lambda x: x[:max_length] if isinstance(x, str) else '')\n",
        "test[\"experience_desc\"] = test[\"experience_desc\"].apply(lambda x: x[:max_length] if isinstance(x, str) else '')\n"
      ]
    },
    {
      "cell_type": "code",
      "execution_count": null,
      "metadata": {
        "colab": {
          "base_uri": "https://localhost:8080/"
        },
        "id": "2iF2fXWQ_YKT",
        "outputId": "25c247ca-35e4-4b46-b41f-e1ba744d993f"
      },
      "outputs": [
        {
          "output_type": "stream",
          "name": "stdout",
          "text": [
            "CPU times: user 3min 17s, sys: 714 ms, total: 3min 18s\n",
            "Wall time: 3min 19s\n"
          ]
        }
      ],
      "source": [
        "%%time\n",
        "data[\"description\"] = data[\"description\"].apply(get_bert_embeddings)\n",
        "data[\"experience_desc\"] = data[\"experience_desc\"].apply(get_bert_embeddings)\n",
        "\n",
        "test[\"description\"] = test[\"description\"].apply(get_bert_embeddings)\n",
        "test[\"experience_desc\"] = test[\"experience_desc\"].apply(get_bert_embeddings)"
      ]
    },
    {
      "cell_type": "code",
      "execution_count": null,
      "metadata": {
        "id": "Tm-UnilW_k2u",
        "colab": {
          "base_uri": "https://localhost:8080/"
        },
        "outputId": "0a806991-1f86-4438-afea-fc4461641b6d"
      },
      "outputs": [
        {
          "output_type": "stream",
          "name": "stdout",
          "text": [
            "CPU times: user 1min 33s, sys: 298 ms, total: 1min 33s\n",
            "Wall time: 1min 34s\n"
          ]
        }
      ],
      "source": [
        "%%time\n",
        "# data[\"Ученая степень 1\"] = data[\"Ученая степень 1\"].apply(get_bert_embeddings)\n",
        "# data[\"Ученое звание 1\"] = data[\"Ученое звание 1\"].apply(get_bert_embeddings)\n",
        "data['status'] = data['status'].apply(get_bert_embeddings)\n",
        "\n",
        "# test[\"Ученая степень 1\"] = test[\"Ученая степень 1\"].apply(get_bert_embeddings)\n",
        "# test[\"Ученое звание 1\"] = test[\"Ученое звание 1\"].apply(get_bert_embeddings)\n",
        "test['status'] = test['status'].apply(get_bert_embeddings)"
      ]
    },
    {
      "cell_type": "code",
      "execution_count": null,
      "metadata": {
        "id": "ZKoeA4f5_zj3",
        "colab": {
          "base_uri": "https://localhost:8080/"
        },
        "outputId": "52c3c2ff-16df-4e12-a1ce-c32f97e57407"
      },
      "outputs": [
        {
          "output_type": "stream",
          "name": "stdout",
          "text": [
            "CPU times: user 3min 9s, sys: 571 ms, total: 3min 9s\n",
            "Wall time: 3min 10s\n"
          ]
        }
      ],
      "source": [
        "%%time\n",
        "data[\"Факультет\"] = data[\"Факультет\"].apply(get_bert_embeddings)\n",
        "data[\"Специальность\"] = data[\"Специальность\"].apply(get_bert_embeddings)\n",
        "\n",
        "test[\"Факультет\"] = test[\"Факультет\"].apply(get_bert_embeddings)\n",
        "test[\"Специальность\"] = test[\"Специальность\"].apply(get_bert_embeddings)"
      ]
    },
    {
      "cell_type": "code",
      "execution_count": null,
      "metadata": {
        "id": "V2os6-oB_5l5",
        "colab": {
          "base_uri": "https://localhost:8080/"
        },
        "outputId": "7ad65340-132e-44b5-b556-41e4687f35c4"
      },
      "outputs": [
        {
          "output_type": "stream",
          "name": "stdout",
          "text": [
            "CPU times: user 2min 59s, sys: 589 ms, total: 3min\n",
            "Wall time: 3min 1s\n"
          ]
        }
      ],
      "source": [
        "%%time\n",
        "data[\"Факультет_2\"] = data[\"Факультет_2\"].apply(get_bert_embeddings)\n",
        "data[\"Специальность_2\"] = data[\"Специальность_2\"].apply(get_bert_embeddings)\n",
        "\n",
        "test[\"Факультет_2\"] = test[\"Факультет_2\"].apply(get_bert_embeddings)\n",
        "test[\"Специальность_2\"] = test[\"Специальность_2\"].apply(get_bert_embeddings)"
      ]
    },
    {
      "cell_type": "code",
      "source": [
        "data"
      ],
      "metadata": {
        "id": "9PQfWIWK1hl6",
        "colab": {
          "base_uri": "https://localhost:8080/",
          "height": 1000
        },
        "outputId": "102c65ab-b180-49df-9949-2dbd0b7e79ac"
      },
      "execution_count": null,
      "outputs": [
        {
          "output_type": "execute_result",
          "data": {
            "text/plain": [
              "      предмет  tutor_rating  tutor_reviews  \\\n",
              "0           1           5.0              2   \n",
              "1           1           4.0              7   \n",
              "2           0           0.0              0   \n",
              "3           1           4.0             19   \n",
              "4           1           0.0              0   \n",
              "...       ...           ...            ...   \n",
              "4543        1           4.0             11   \n",
              "4544        0           0.0              0   \n",
              "4545        0           0.0              0   \n",
              "4546        0           0.0              0   \n",
              "4547        1           0.0              0   \n",
              "\n",
              "                                            description  \\\n",
              "0     [0.17684156, 0.008805842, 0.12233701, -0.02458...   \n",
              "1     [0.17684156, 0.008805842, 0.12233701, -0.02458...   \n",
              "2     [-0.22428411, 0.011126454, 0.19424948, -0.4309...   \n",
              "3     [0.2513088, -0.039720166, -0.16091944, -0.1477...   \n",
              "4     [0.3248754, -0.02931553, -0.33322605, -0.08289...   \n",
              "...                                                 ...   \n",
              "4543  [0.12652029, -0.21419364, -0.0036280765, -0.01...   \n",
              "4544  [0.16125703, 0.06873178, -0.041927885, -0.1649...   \n",
              "4545  [0.33431453, 0.00825851, -0.2938131, -0.037702...   \n",
              "4546  [0.042543955, -0.110889055, 0.91452664, -0.377...   \n",
              "4547  [0.16931675, 0.08069228, -0.24612743, -0.01192...   \n",
              "\n",
              "                                        experience_desc  \\\n",
              "0     [0.30990756, 0.42106947, -0.07309327, -0.38381...   \n",
              "1     [0.30990756, 0.42106947, -0.07309327, -0.38381...   \n",
              "2     [0.27011675, -0.43876013, -0.36680552, 0.02164...   \n",
              "3     [0.30990756, 0.42106947, -0.07309327, -0.38381...   \n",
              "4     [0.32035416, -0.48803443, -0.27659696, 0.05093...   \n",
              "...                                                 ...   \n",
              "4543  [0.30990756, 0.42106947, -0.07309327, -0.38381...   \n",
              "4544  [0.075747006, -0.23860729, -0.1479409, 0.18900...   \n",
              "4545  [-0.007578665, -0.38519984, 0.33168066, -0.347...   \n",
              "4546  [0.031247348, -0.110712014, -0.304489, 0.00621...   \n",
              "4547  [-0.007578665, -0.38519984, 0.33168066, -0.347...   \n",
              "\n",
              "                                            Education_1  \\\n",
              "0     [0.24656099, -0.04226672, -0.16662845, -0.2803...   \n",
              "1     [-0.0026722318, 0.0025399795, -0.1915178, -0.0...   \n",
              "2     [0.057222918, 0.011893819, -0.19617993, -0.085...   \n",
              "3     [0.012212559, 0.0084088845, -0.12229255, -0.10...   \n",
              "4     [0.034512963, -0.0061883084, -0.104633026, -0....   \n",
              "...                                                 ...   \n",
              "4543  [0.2677659, 0.08113117, -0.10478278, -0.104769...   \n",
              "4544  [0.13777877, 0.06969801, -0.23144226, 0.051343...   \n",
              "4545  [0.107586704, -0.014726959, -0.16020367, -0.08...   \n",
              "4546  [0.53835225, 0.18719462, 0.018956782, 0.072765...   \n",
              "4547  [-0.12962411, -0.03485839, -0.3685225, -0.1366...   \n",
              "\n",
              "                                            Education_2  \\\n",
              "0     [0.30990756, 0.42106947, -0.07309327, -0.38381...   \n",
              "1     [0.033495303, 0.008374009, -0.18259262, -0.041...   \n",
              "2     [0.2674793, -0.18786858, -0.44755074, -0.10920...   \n",
              "3     [0.30990756, 0.42106947, -0.07309327, -0.38381...   \n",
              "4     [0.30990756, 0.42106947, -0.07309327, -0.38381...   \n",
              "...                                                 ...   \n",
              "4543  [0.30990756, 0.42106947, -0.07309327, -0.38381...   \n",
              "4544  [0.30990756, 0.42106947, -0.07309327, -0.38381...   \n",
              "4545  [0.30990756, 0.42106947, -0.07309327, -0.38381...   \n",
              "4546  [0.30990756, 0.42106947, -0.07309327, -0.38381...   \n",
              "4547  [0.30990756, 0.42106947, -0.07309327, -0.38381...   \n",
              "\n",
              "                                                 status  experience  \\\n",
              "0     [0.1320981, 0.01904448, -0.13745543, 0.0246689...          31   \n",
              "1     [0.0015867071, 0.040194348, -0.089747384, -0.0...           8   \n",
              "2     [0.0015867071, 0.040194348, -0.089747384, -0.0...          11   \n",
              "3     [-0.003644311, 0.04361287, -0.08343967, -0.003...           5   \n",
              "4     [-0.003644311, 0.04361287, -0.08343967, -0.003...          19   \n",
              "...                                                 ...         ...   \n",
              "4543  [-0.003644311, 0.04361287, -0.08343967, -0.003...           5   \n",
              "4544  [0.0015867071, 0.040194348, -0.089747384, -0.0...          30   \n",
              "4545  [0.12876445, 0.011511857, -0.04721165, 0.01556...           6   \n",
              "4546  [0.12876445, 0.011511857, -0.04721165, 0.01556...           1   \n",
              "4547  [0.12876445, 0.011511857, -0.04721165, 0.01556...           4   \n",
              "\n",
              "      mean_price  ...  Студенты университетов в паре  \\\n",
              "0      16.666667  ...                              0   \n",
              "1      11.666667  ...                              0   \n",
              "2      23.333333  ...                              0   \n",
              "3       0.116667  ...                              0   \n",
              "4      16.666667  ...                              0   \n",
              "...          ...  ...                            ...   \n",
              "4543   16.666667  ...                              0   \n",
              "4544   33.333333  ...                              0   \n",
              "4545   23.333333  ...                              0   \n",
              "4546    9.722222  ...                              0   \n",
              "4547   11.111111  ...                              0   \n",
              "\n",
              "      Школьники с 1 по 4 класс  Школьники с 1 по 4 класс в паре  \\\n",
              "0                            0                                0   \n",
              "1                            0                                0   \n",
              "2                            0                                0   \n",
              "3                            1                                0   \n",
              "4                            0                                0   \n",
              "...                        ...                              ...   \n",
              "4543                         1                                0   \n",
              "4544                         0                                0   \n",
              "4545                         0                                0   \n",
              "4546                         0                                0   \n",
              "4547                         1                                0   \n",
              "\n",
              "      Школьники с 1 по 4 класс группа  \\\n",
              "0                                   0   \n",
              "1                                   0   \n",
              "2                                   0   \n",
              "3                                   0   \n",
              "4                                   0   \n",
              "...                               ...   \n",
              "4543                                0   \n",
              "4544                                0   \n",
              "4545                                0   \n",
              "4546                                0   \n",
              "4547                                0   \n",
              "\n",
              "      Школьники с 10 по 11 класс, студенты колледжей и техникумов, абитуриенты  \\\n",
              "0                                                     1                          \n",
              "1                                                     1                          \n",
              "2                                                     1                          \n",
              "3                                                     1                          \n",
              "4                                                     1                          \n",
              "...                                                 ...                          \n",
              "4543                                                  1                          \n",
              "4544                                                  0                          \n",
              "4545                                                  1                          \n",
              "4546                                                  1                          \n",
              "4547                                                  0                          \n",
              "\n",
              "      Школьники с 10 по 11 класс, студенты колледжей и техникумов, абитуриенты в паре  \\\n",
              "0                                                     0                                 \n",
              "1                                                     0                                 \n",
              "2                                                     0                                 \n",
              "3                                                     0                                 \n",
              "4                                                     0                                 \n",
              "...                                                 ...                                 \n",
              "4543                                                  0                                 \n",
              "4544                                                  0                                 \n",
              "4545                                                  0                                 \n",
              "4546                                                  0                                 \n",
              "4547                                                  0                                 \n",
              "\n",
              "      Школьники с 10 по 11 класс, студенты колледжей и техникумов, абитуриенты группа  \\\n",
              "0                                                     0                                 \n",
              "1                                                     0                                 \n",
              "2                                                     0                                 \n",
              "3                                                     0                                 \n",
              "4                                                     0                                 \n",
              "...                                                 ...                                 \n",
              "4543                                                  0                                 \n",
              "4544                                                  0                                 \n",
              "4545                                                  0                                 \n",
              "4546                                                  0                                 \n",
              "4547                                                  0                                 \n",
              "\n",
              "      Школьники с 5 по 9 класс  Школьники с 5 по 9 класс в паре  \\\n",
              "0                            1                                0   \n",
              "1                            1                                0   \n",
              "2                            1                                0   \n",
              "3                            1                                0   \n",
              "4                            1                                0   \n",
              "...                        ...                              ...   \n",
              "4543                         1                                0   \n",
              "4544                         1                                0   \n",
              "4545                         1                                0   \n",
              "4546                         1                                0   \n",
              "4547                         1                                1   \n",
              "\n",
              "      Школьники с 5 по 9 класс группа  \n",
              "0                                   0  \n",
              "1                                   0  \n",
              "2                                   0  \n",
              "3                                   0  \n",
              "4                                   0  \n",
              "...                               ...  \n",
              "4543                                0  \n",
              "4544                                0  \n",
              "4545                                0  \n",
              "4546                                0  \n",
              "4547                                0  \n",
              "\n",
              "[4548 rows x 52 columns]"
            ],
            "text/html": [
              "\n",
              "\n",
              "  <div id=\"df-93b80955-e857-4f0c-9163-095d77bccb0b\">\n",
              "    <div class=\"colab-df-container\">\n",
              "      <div>\n",
              "<style scoped>\n",
              "    .dataframe tbody tr th:only-of-type {\n",
              "        vertical-align: middle;\n",
              "    }\n",
              "\n",
              "    .dataframe tbody tr th {\n",
              "        vertical-align: top;\n",
              "    }\n",
              "\n",
              "    .dataframe thead th {\n",
              "        text-align: right;\n",
              "    }\n",
              "</style>\n",
              "<table border=\"1\" class=\"dataframe\">\n",
              "  <thead>\n",
              "    <tr style=\"text-align: right;\">\n",
              "      <th></th>\n",
              "      <th>предмет</th>\n",
              "      <th>tutor_rating</th>\n",
              "      <th>tutor_reviews</th>\n",
              "      <th>description</th>\n",
              "      <th>experience_desc</th>\n",
              "      <th>Education_1</th>\n",
              "      <th>Education_2</th>\n",
              "      <th>status</th>\n",
              "      <th>experience</th>\n",
              "      <th>mean_price</th>\n",
              "      <th>...</th>\n",
              "      <th>Студенты университетов в паре</th>\n",
              "      <th>Школьники с 1 по 4 класс</th>\n",
              "      <th>Школьники с 1 по 4 класс в паре</th>\n",
              "      <th>Школьники с 1 по 4 класс группа</th>\n",
              "      <th>Школьники с 10 по 11 класс, студенты колледжей и техникумов, абитуриенты</th>\n",
              "      <th>Школьники с 10 по 11 класс, студенты колледжей и техникумов, абитуриенты в паре</th>\n",
              "      <th>Школьники с 10 по 11 класс, студенты колледжей и техникумов, абитуриенты группа</th>\n",
              "      <th>Школьники с 5 по 9 класс</th>\n",
              "      <th>Школьники с 5 по 9 класс в паре</th>\n",
              "      <th>Школьники с 5 по 9 класс группа</th>\n",
              "    </tr>\n",
              "  </thead>\n",
              "  <tbody>\n",
              "    <tr>\n",
              "      <th>0</th>\n",
              "      <td>1</td>\n",
              "      <td>5.0</td>\n",
              "      <td>2</td>\n",
              "      <td>[0.17684156, 0.008805842, 0.12233701, -0.02458...</td>\n",
              "      <td>[0.30990756, 0.42106947, -0.07309327, -0.38381...</td>\n",
              "      <td>[0.24656099, -0.04226672, -0.16662845, -0.2803...</td>\n",
              "      <td>[0.30990756, 0.42106947, -0.07309327, -0.38381...</td>\n",
              "      <td>[0.1320981, 0.01904448, -0.13745543, 0.0246689...</td>\n",
              "      <td>31</td>\n",
              "      <td>16.666667</td>\n",
              "      <td>...</td>\n",
              "      <td>0</td>\n",
              "      <td>0</td>\n",
              "      <td>0</td>\n",
              "      <td>0</td>\n",
              "      <td>1</td>\n",
              "      <td>0</td>\n",
              "      <td>0</td>\n",
              "      <td>1</td>\n",
              "      <td>0</td>\n",
              "      <td>0</td>\n",
              "    </tr>\n",
              "    <tr>\n",
              "      <th>1</th>\n",
              "      <td>1</td>\n",
              "      <td>4.0</td>\n",
              "      <td>7</td>\n",
              "      <td>[0.17684156, 0.008805842, 0.12233701, -0.02458...</td>\n",
              "      <td>[0.30990756, 0.42106947, -0.07309327, -0.38381...</td>\n",
              "      <td>[-0.0026722318, 0.0025399795, -0.1915178, -0.0...</td>\n",
              "      <td>[0.033495303, 0.008374009, -0.18259262, -0.041...</td>\n",
              "      <td>[0.0015867071, 0.040194348, -0.089747384, -0.0...</td>\n",
              "      <td>8</td>\n",
              "      <td>11.666667</td>\n",
              "      <td>...</td>\n",
              "      <td>0</td>\n",
              "      <td>0</td>\n",
              "      <td>0</td>\n",
              "      <td>0</td>\n",
              "      <td>1</td>\n",
              "      <td>0</td>\n",
              "      <td>0</td>\n",
              "      <td>1</td>\n",
              "      <td>0</td>\n",
              "      <td>0</td>\n",
              "    </tr>\n",
              "    <tr>\n",
              "      <th>2</th>\n",
              "      <td>0</td>\n",
              "      <td>0.0</td>\n",
              "      <td>0</td>\n",
              "      <td>[-0.22428411, 0.011126454, 0.19424948, -0.4309...</td>\n",
              "      <td>[0.27011675, -0.43876013, -0.36680552, 0.02164...</td>\n",
              "      <td>[0.057222918, 0.011893819, -0.19617993, -0.085...</td>\n",
              "      <td>[0.2674793, -0.18786858, -0.44755074, -0.10920...</td>\n",
              "      <td>[0.0015867071, 0.040194348, -0.089747384, -0.0...</td>\n",
              "      <td>11</td>\n",
              "      <td>23.333333</td>\n",
              "      <td>...</td>\n",
              "      <td>0</td>\n",
              "      <td>0</td>\n",
              "      <td>0</td>\n",
              "      <td>0</td>\n",
              "      <td>1</td>\n",
              "      <td>0</td>\n",
              "      <td>0</td>\n",
              "      <td>1</td>\n",
              "      <td>0</td>\n",
              "      <td>0</td>\n",
              "    </tr>\n",
              "    <tr>\n",
              "      <th>3</th>\n",
              "      <td>1</td>\n",
              "      <td>4.0</td>\n",
              "      <td>19</td>\n",
              "      <td>[0.2513088, -0.039720166, -0.16091944, -0.1477...</td>\n",
              "      <td>[0.30990756, 0.42106947, -0.07309327, -0.38381...</td>\n",
              "      <td>[0.012212559, 0.0084088845, -0.12229255, -0.10...</td>\n",
              "      <td>[0.30990756, 0.42106947, -0.07309327, -0.38381...</td>\n",
              "      <td>[-0.003644311, 0.04361287, -0.08343967, -0.003...</td>\n",
              "      <td>5</td>\n",
              "      <td>0.116667</td>\n",
              "      <td>...</td>\n",
              "      <td>0</td>\n",
              "      <td>1</td>\n",
              "      <td>0</td>\n",
              "      <td>0</td>\n",
              "      <td>1</td>\n",
              "      <td>0</td>\n",
              "      <td>0</td>\n",
              "      <td>1</td>\n",
              "      <td>0</td>\n",
              "      <td>0</td>\n",
              "    </tr>\n",
              "    <tr>\n",
              "      <th>4</th>\n",
              "      <td>1</td>\n",
              "      <td>0.0</td>\n",
              "      <td>0</td>\n",
              "      <td>[0.3248754, -0.02931553, -0.33322605, -0.08289...</td>\n",
              "      <td>[0.32035416, -0.48803443, -0.27659696, 0.05093...</td>\n",
              "      <td>[0.034512963, -0.0061883084, -0.104633026, -0....</td>\n",
              "      <td>[0.30990756, 0.42106947, -0.07309327, -0.38381...</td>\n",
              "      <td>[-0.003644311, 0.04361287, -0.08343967, -0.003...</td>\n",
              "      <td>19</td>\n",
              "      <td>16.666667</td>\n",
              "      <td>...</td>\n",
              "      <td>0</td>\n",
              "      <td>0</td>\n",
              "      <td>0</td>\n",
              "      <td>0</td>\n",
              "      <td>1</td>\n",
              "      <td>0</td>\n",
              "      <td>0</td>\n",
              "      <td>1</td>\n",
              "      <td>0</td>\n",
              "      <td>0</td>\n",
              "    </tr>\n",
              "    <tr>\n",
              "      <th>...</th>\n",
              "      <td>...</td>\n",
              "      <td>...</td>\n",
              "      <td>...</td>\n",
              "      <td>...</td>\n",
              "      <td>...</td>\n",
              "      <td>...</td>\n",
              "      <td>...</td>\n",
              "      <td>...</td>\n",
              "      <td>...</td>\n",
              "      <td>...</td>\n",
              "      <td>...</td>\n",
              "      <td>...</td>\n",
              "      <td>...</td>\n",
              "      <td>...</td>\n",
              "      <td>...</td>\n",
              "      <td>...</td>\n",
              "      <td>...</td>\n",
              "      <td>...</td>\n",
              "      <td>...</td>\n",
              "      <td>...</td>\n",
              "      <td>...</td>\n",
              "    </tr>\n",
              "    <tr>\n",
              "      <th>4543</th>\n",
              "      <td>1</td>\n",
              "      <td>4.0</td>\n",
              "      <td>11</td>\n",
              "      <td>[0.12652029, -0.21419364, -0.0036280765, -0.01...</td>\n",
              "      <td>[0.30990756, 0.42106947, -0.07309327, -0.38381...</td>\n",
              "      <td>[0.2677659, 0.08113117, -0.10478278, -0.104769...</td>\n",
              "      <td>[0.30990756, 0.42106947, -0.07309327, -0.38381...</td>\n",
              "      <td>[-0.003644311, 0.04361287, -0.08343967, -0.003...</td>\n",
              "      <td>5</td>\n",
              "      <td>16.666667</td>\n",
              "      <td>...</td>\n",
              "      <td>0</td>\n",
              "      <td>1</td>\n",
              "      <td>0</td>\n",
              "      <td>0</td>\n",
              "      <td>1</td>\n",
              "      <td>0</td>\n",
              "      <td>0</td>\n",
              "      <td>1</td>\n",
              "      <td>0</td>\n",
              "      <td>0</td>\n",
              "    </tr>\n",
              "    <tr>\n",
              "      <th>4544</th>\n",
              "      <td>0</td>\n",
              "      <td>0.0</td>\n",
              "      <td>0</td>\n",
              "      <td>[0.16125703, 0.06873178, -0.041927885, -0.1649...</td>\n",
              "      <td>[0.075747006, -0.23860729, -0.1479409, 0.18900...</td>\n",
              "      <td>[0.13777877, 0.06969801, -0.23144226, 0.051343...</td>\n",
              "      <td>[0.30990756, 0.42106947, -0.07309327, -0.38381...</td>\n",
              "      <td>[0.0015867071, 0.040194348, -0.089747384, -0.0...</td>\n",
              "      <td>30</td>\n",
              "      <td>33.333333</td>\n",
              "      <td>...</td>\n",
              "      <td>0</td>\n",
              "      <td>0</td>\n",
              "      <td>0</td>\n",
              "      <td>0</td>\n",
              "      <td>0</td>\n",
              "      <td>0</td>\n",
              "      <td>0</td>\n",
              "      <td>1</td>\n",
              "      <td>0</td>\n",
              "      <td>0</td>\n",
              "    </tr>\n",
              "    <tr>\n",
              "      <th>4545</th>\n",
              "      <td>0</td>\n",
              "      <td>0.0</td>\n",
              "      <td>0</td>\n",
              "      <td>[0.33431453, 0.00825851, -0.2938131, -0.037702...</td>\n",
              "      <td>[-0.007578665, -0.38519984, 0.33168066, -0.347...</td>\n",
              "      <td>[0.107586704, -0.014726959, -0.16020367, -0.08...</td>\n",
              "      <td>[0.30990756, 0.42106947, -0.07309327, -0.38381...</td>\n",
              "      <td>[0.12876445, 0.011511857, -0.04721165, 0.01556...</td>\n",
              "      <td>6</td>\n",
              "      <td>23.333333</td>\n",
              "      <td>...</td>\n",
              "      <td>0</td>\n",
              "      <td>0</td>\n",
              "      <td>0</td>\n",
              "      <td>0</td>\n",
              "      <td>1</td>\n",
              "      <td>0</td>\n",
              "      <td>0</td>\n",
              "      <td>1</td>\n",
              "      <td>0</td>\n",
              "      <td>0</td>\n",
              "    </tr>\n",
              "    <tr>\n",
              "      <th>4546</th>\n",
              "      <td>0</td>\n",
              "      <td>0.0</td>\n",
              "      <td>0</td>\n",
              "      <td>[0.042543955, -0.110889055, 0.91452664, -0.377...</td>\n",
              "      <td>[0.031247348, -0.110712014, -0.304489, 0.00621...</td>\n",
              "      <td>[0.53835225, 0.18719462, 0.018956782, 0.072765...</td>\n",
              "      <td>[0.30990756, 0.42106947, -0.07309327, -0.38381...</td>\n",
              "      <td>[0.12876445, 0.011511857, -0.04721165, 0.01556...</td>\n",
              "      <td>1</td>\n",
              "      <td>9.722222</td>\n",
              "      <td>...</td>\n",
              "      <td>0</td>\n",
              "      <td>0</td>\n",
              "      <td>0</td>\n",
              "      <td>0</td>\n",
              "      <td>1</td>\n",
              "      <td>0</td>\n",
              "      <td>0</td>\n",
              "      <td>1</td>\n",
              "      <td>0</td>\n",
              "      <td>0</td>\n",
              "    </tr>\n",
              "    <tr>\n",
              "      <th>4547</th>\n",
              "      <td>1</td>\n",
              "      <td>0.0</td>\n",
              "      <td>0</td>\n",
              "      <td>[0.16931675, 0.08069228, -0.24612743, -0.01192...</td>\n",
              "      <td>[-0.007578665, -0.38519984, 0.33168066, -0.347...</td>\n",
              "      <td>[-0.12962411, -0.03485839, -0.3685225, -0.1366...</td>\n",
              "      <td>[0.30990756, 0.42106947, -0.07309327, -0.38381...</td>\n",
              "      <td>[0.12876445, 0.011511857, -0.04721165, 0.01556...</td>\n",
              "      <td>4</td>\n",
              "      <td>11.111111</td>\n",
              "      <td>...</td>\n",
              "      <td>0</td>\n",
              "      <td>1</td>\n",
              "      <td>0</td>\n",
              "      <td>0</td>\n",
              "      <td>0</td>\n",
              "      <td>0</td>\n",
              "      <td>0</td>\n",
              "      <td>1</td>\n",
              "      <td>1</td>\n",
              "      <td>0</td>\n",
              "    </tr>\n",
              "  </tbody>\n",
              "</table>\n",
              "<p>4548 rows × 52 columns</p>\n",
              "</div>\n",
              "      <button class=\"colab-df-convert\" onclick=\"convertToInteractive('df-93b80955-e857-4f0c-9163-095d77bccb0b')\"\n",
              "              title=\"Convert this dataframe to an interactive table.\"\n",
              "              style=\"display:none;\">\n",
              "\n",
              "  <svg xmlns=\"http://www.w3.org/2000/svg\" height=\"24px\"viewBox=\"0 0 24 24\"\n",
              "       width=\"24px\">\n",
              "    <path d=\"M0 0h24v24H0V0z\" fill=\"none\"/>\n",
              "    <path d=\"M18.56 5.44l.94 2.06.94-2.06 2.06-.94-2.06-.94-.94-2.06-.94 2.06-2.06.94zm-11 1L8.5 8.5l.94-2.06 2.06-.94-2.06-.94L8.5 2.5l-.94 2.06-2.06.94zm10 10l.94 2.06.94-2.06 2.06-.94-2.06-.94-.94-2.06-.94 2.06-2.06.94z\"/><path d=\"M17.41 7.96l-1.37-1.37c-.4-.4-.92-.59-1.43-.59-.52 0-1.04.2-1.43.59L10.3 9.45l-7.72 7.72c-.78.78-.78 2.05 0 2.83L4 21.41c.39.39.9.59 1.41.59.51 0 1.02-.2 1.41-.59l7.78-7.78 2.81-2.81c.8-.78.8-2.07 0-2.86zM5.41 20L4 18.59l7.72-7.72 1.47 1.35L5.41 20z\"/>\n",
              "  </svg>\n",
              "      </button>\n",
              "\n",
              "\n",
              "\n",
              "    <div id=\"df-1214a9a2-fa3f-4539-ac79-6e9af76365f6\">\n",
              "      <button class=\"colab-df-quickchart\" onclick=\"quickchart('df-1214a9a2-fa3f-4539-ac79-6e9af76365f6')\"\n",
              "              title=\"Suggest charts.\"\n",
              "              style=\"display:none;\">\n",
              "\n",
              "<svg xmlns=\"http://www.w3.org/2000/svg\" height=\"24px\"viewBox=\"0 0 24 24\"\n",
              "     width=\"24px\">\n",
              "    <g>\n",
              "        <path d=\"M19 3H5c-1.1 0-2 .9-2 2v14c0 1.1.9 2 2 2h14c1.1 0 2-.9 2-2V5c0-1.1-.9-2-2-2zM9 17H7v-7h2v7zm4 0h-2V7h2v10zm4 0h-2v-4h2v4z\"/>\n",
              "    </g>\n",
              "</svg>\n",
              "      </button>\n",
              "    </div>\n",
              "\n",
              "<style>\n",
              "  .colab-df-quickchart {\n",
              "    background-color: #E8F0FE;\n",
              "    border: none;\n",
              "    border-radius: 50%;\n",
              "    cursor: pointer;\n",
              "    display: none;\n",
              "    fill: #1967D2;\n",
              "    height: 32px;\n",
              "    padding: 0 0 0 0;\n",
              "    width: 32px;\n",
              "  }\n",
              "\n",
              "  .colab-df-quickchart:hover {\n",
              "    background-color: #E2EBFA;\n",
              "    box-shadow: 0px 1px 2px rgba(60, 64, 67, 0.3), 0px 1px 3px 1px rgba(60, 64, 67, 0.15);\n",
              "    fill: #174EA6;\n",
              "  }\n",
              "\n",
              "  [theme=dark] .colab-df-quickchart {\n",
              "    background-color: #3B4455;\n",
              "    fill: #D2E3FC;\n",
              "  }\n",
              "\n",
              "  [theme=dark] .colab-df-quickchart:hover {\n",
              "    background-color: #434B5C;\n",
              "    box-shadow: 0px 1px 3px 1px rgba(0, 0, 0, 0.15);\n",
              "    filter: drop-shadow(0px 1px 2px rgba(0, 0, 0, 0.3));\n",
              "    fill: #FFFFFF;\n",
              "  }\n",
              "</style>\n",
              "\n",
              "    <script>\n",
              "      async function quickchart(key) {\n",
              "        const containerElement = document.querySelector('#' + key);\n",
              "        const charts = await google.colab.kernel.invokeFunction(\n",
              "            'suggestCharts', [key], {});\n",
              "      }\n",
              "    </script>\n",
              "\n",
              "      <script>\n",
              "\n",
              "function displayQuickchartButton(domScope) {\n",
              "  let quickchartButtonEl =\n",
              "    domScope.querySelector('#df-1214a9a2-fa3f-4539-ac79-6e9af76365f6 button.colab-df-quickchart');\n",
              "  quickchartButtonEl.style.display =\n",
              "    google.colab.kernel.accessAllowed ? 'block' : 'none';\n",
              "}\n",
              "\n",
              "        displayQuickchartButton(document);\n",
              "      </script>\n",
              "      <style>\n",
              "    .colab-df-container {\n",
              "      display:flex;\n",
              "      flex-wrap:wrap;\n",
              "      gap: 12px;\n",
              "    }\n",
              "\n",
              "    .colab-df-convert {\n",
              "      background-color: #E8F0FE;\n",
              "      border: none;\n",
              "      border-radius: 50%;\n",
              "      cursor: pointer;\n",
              "      display: none;\n",
              "      fill: #1967D2;\n",
              "      height: 32px;\n",
              "      padding: 0 0 0 0;\n",
              "      width: 32px;\n",
              "    }\n",
              "\n",
              "    .colab-df-convert:hover {\n",
              "      background-color: #E2EBFA;\n",
              "      box-shadow: 0px 1px 2px rgba(60, 64, 67, 0.3), 0px 1px 3px 1px rgba(60, 64, 67, 0.15);\n",
              "      fill: #174EA6;\n",
              "    }\n",
              "\n",
              "    [theme=dark] .colab-df-convert {\n",
              "      background-color: #3B4455;\n",
              "      fill: #D2E3FC;\n",
              "    }\n",
              "\n",
              "    [theme=dark] .colab-df-convert:hover {\n",
              "      background-color: #434B5C;\n",
              "      box-shadow: 0px 1px 3px 1px rgba(0, 0, 0, 0.15);\n",
              "      filter: drop-shadow(0px 1px 2px rgba(0, 0, 0, 0.3));\n",
              "      fill: #FFFFFF;\n",
              "    }\n",
              "  </style>\n",
              "\n",
              "      <script>\n",
              "        const buttonEl =\n",
              "          document.querySelector('#df-93b80955-e857-4f0c-9163-095d77bccb0b button.colab-df-convert');\n",
              "        buttonEl.style.display =\n",
              "          google.colab.kernel.accessAllowed ? 'block' : 'none';\n",
              "\n",
              "        async function convertToInteractive(key) {\n",
              "          const element = document.querySelector('#df-93b80955-e857-4f0c-9163-095d77bccb0b');\n",
              "          const dataTable =\n",
              "            await google.colab.kernel.invokeFunction('convertToInteractive',\n",
              "                                                     [key], {});\n",
              "          if (!dataTable) return;\n",
              "\n",
              "          const docLinkHtml = 'Like what you see? Visit the ' +\n",
              "            '<a target=\"_blank\" href=https://colab.research.google.com/notebooks/data_table.ipynb>data table notebook</a>'\n",
              "            + ' to learn more about interactive tables.';\n",
              "          element.innerHTML = '';\n",
              "          dataTable['output_type'] = 'display_data';\n",
              "          await google.colab.output.renderOutput(dataTable, element);\n",
              "          const docLink = document.createElement('div');\n",
              "          docLink.innerHTML = docLinkHtml;\n",
              "          element.appendChild(docLink);\n",
              "        }\n",
              "      </script>\n",
              "    </div>\n",
              "  </div>\n"
            ]
          },
          "metadata": {},
          "execution_count": 45
        }
      ]
    },
    {
      "cell_type": "code",
      "execution_count": null,
      "metadata": {
        "id": "voMrAYf8_8b-"
      },
      "outputs": [],
      "source": [
        "# %%time\n",
        "# data[\"Факультет_3\"] = data[\"Факультет_3\"].apply(get_bert_embeddings)\n",
        "# data[\"Специальность_3\"] = data[\"Специальность_3\"].apply(get_bert_embeddings)\n",
        "\n",
        "# test[\"Факультет_3\"] = test[\"Факультет_3\"].apply(get_bert_embeddings)\n",
        "# test[\"Специальность_3\"] = test[\"Специальность_3\"].apply(get_bert_embeddings)"
      ]
    },
    {
      "cell_type": "code",
      "execution_count": null,
      "metadata": {
        "id": "1o0spKWj_9Mh"
      },
      "outputs": [],
      "source": [
        "# %%time\n",
        "# data[\"Факультет_4\"] = data[\"Факультет_4\"].apply(get_bert_embeddings)\n",
        "# data[\"Специальность_4\"] = data[\"Специальность_4\"].apply(get_bert_embeddings)\n",
        "\n",
        "# test[\"Факультет_4\"] = test[\"Факультет_4\"].apply(get_bert_embeddings)\n",
        "# test[\"Специальность_4\"] = test[\"Специальность_4\"].apply(get_bert_embeddings)"
      ]
    },
    {
      "cell_type": "code",
      "execution_count": null,
      "metadata": {
        "id": "ospeCPJ2DYfg"
      },
      "outputs": [],
      "source": [
        "emb_columns = ['Education_1', 'Education_2', 'description', 'experience_desc', 'status', 'Факультет', 'Специальность', 'Факультет_2', 'Специальность_2']"
      ]
    },
    {
      "cell_type": "markdown",
      "source": [
        "Наши модели не могут принимать массивы чисел на вход, поэтмоу разделим эти массивы, образовав новые признаки"
      ],
      "metadata": {
        "id": "aoZ58ALGQClA"
      }
    },
    {
      "cell_type": "code",
      "execution_count": null,
      "metadata": {
        "id": "MKkoL6svSHI8"
      },
      "outputs": [],
      "source": [
        "k = 0\n",
        "for column in emb_columns:\n",
        "  for i in range(768):\n",
        "    data[f'feature_{i+1000*k}'] = data[column].apply(lambda x: x[i])\n",
        "  k += 1"
      ]
    },
    {
      "cell_type": "code",
      "execution_count": null,
      "metadata": {
        "id": "8Mfn3OV5ZvVq"
      },
      "outputs": [],
      "source": [
        "k = 0\n",
        "for column in emb_columns:\n",
        "  for i in range(768):\n",
        "    test[f'feature_{i+1000*k}'] = test[column].apply(lambda x: x[i])\n",
        "  k += 1"
      ]
    },
    {
      "cell_type": "code",
      "execution_count": null,
      "metadata": {
        "id": "60des3JRPocW"
      },
      "outputs": [],
      "source": [
        "data = data.drop(columns = emb_columns)\n",
        "\n",
        "test = test.drop(columns = emb_columns)"
      ]
    },
    {
      "cell_type": "markdown",
      "metadata": {
        "id": "LQXCljKGcbcD"
      },
      "source": [
        "Будем использовать три модели:\n",
        "- Линейная регрессия\n",
        "- Random Forest\n",
        "- Градиентный бустинг (в нашем случае CatBoost и LightGBM)\n"
      ]
    },
    {
      "cell_type": "code",
      "execution_count": null,
      "metadata": {
        "id": "EokMWiRjcSRE"
      },
      "outputs": [],
      "source": [
        "y = data['mean_price']\n",
        "X = data.drop(columns = 'mean_price')"
      ]
    },
    {
      "cell_type": "code",
      "execution_count": null,
      "metadata": {
        "id": "mzMD0prfVgKN"
      },
      "outputs": [],
      "source": [
        "X_train, X_val, y_train, y_val = train_test_split(X, y, test_size=0.3, random_state=42)"
      ]
    },
    {
      "cell_type": "markdown",
      "source": [
        "Подберем параметры"
      ],
      "metadata": {
        "id": "UuE0shaOzPYi"
      }
    },
    {
      "cell_type": "code",
      "source": [
        "# !pip install optuna"
      ],
      "metadata": {
        "id": "2cbgiUrP7olQ"
      },
      "execution_count": null,
      "outputs": []
    },
    {
      "cell_type": "markdown",
      "source": [
        "CatBoost"
      ],
      "metadata": {
        "id": "68D9sAfuoCil"
      }
    },
    {
      "cell_type": "code",
      "source": [
        "# import optuna\n",
        "# def objective_cat(trial):\n",
        "#     params = {\n",
        "#         'iterations': trial.suggest_int('iterations', 900, 1600),\n",
        "#         # 'learning_rate': trial.suggest_loguniform('learning_rate', 0.01, 0.2),\n",
        "#         'depth': trial.suggest_int('depth', 4, 9),\n",
        "#         'l2_leaf_reg': trial.suggest_loguniform('l2_leaf_reg', 1e-4, 1e2),\n",
        "#         'task_type' : 'GPU'\n",
        "#     }\n",
        "\n",
        "#     model = CatBoostRegressor(**params)\n",
        "#     model.fit(X_train, y_train, eval_set=(X_val, y_val), verbose=False)\n",
        "\n",
        "#     y_pred = model.predict(X_val)\n",
        "#     mse = mean_squared_error(y_val, y_pred)\n",
        "\n",
        "#     return mse\n",
        "# study = optuna.create_study(direction='minimize')\n",
        "# study.optimize(objective_cat, n_trials=100)\n",
        "# print(\"Best parameters:\", study.best_params)\n",
        "# print(\"Best MSE:\", study.best_value)\n"
      ],
      "metadata": {
        "id": "M9zCNyrgzSKG"
      },
      "execution_count": null,
      "outputs": []
    },
    {
      "cell_type": "code",
      "source": [
        "params =  {'iterations': 1244,\n",
        "           'learning_rate': 0.04526463173269921,\n",
        "           'depth': 5,\n",
        "           'l2_leaf_reg': 95.70751968265648,\n",
        "           'border_count': 42}"
      ],
      "metadata": {
        "id": "24QiNwOOZdBX"
      },
      "execution_count": null,
      "outputs": []
    },
    {
      "cell_type": "code",
      "source": [
        "cat = CatBoostRegressor(verbose = 100,**params, task_type = 'GPU')\n",
        "cat.fit(X_train,y_train)\n",
        "y_pred = cat.predict(X_val)\n",
        "cat_mse = mean_squared_error(y_val, y_pred)\n",
        "\n",
        "print(\"Mean Squared Error:\", cat_mse)"
      ],
      "metadata": {
        "colab": {
          "base_uri": "https://localhost:8080/"
        },
        "id": "iMBjXhIJ6cmo",
        "outputId": "4002c7da-8578-4165-8161-05d993d1fe3a"
      },
      "execution_count": null,
      "outputs": [
        {
          "output_type": "stream",
          "name": "stdout",
          "text": [
            "0:\tlearn: 10.3492300\ttotal: 245ms\tremaining: 5m 4s\n",
            "100:\tlearn: 8.9058136\ttotal: 12.9s\tremaining: 2m 25s\n",
            "200:\tlearn: 8.4471143\ttotal: 24.9s\tremaining: 2m 8s\n",
            "300:\tlearn: 8.0801376\ttotal: 37.1s\tremaining: 1m 56s\n",
            "400:\tlearn: 7.7765585\ttotal: 48.9s\tremaining: 1m 42s\n",
            "500:\tlearn: 7.5314449\ttotal: 1m 1s\tremaining: 1m 30s\n",
            "600:\tlearn: 7.3230675\ttotal: 1m 13s\tremaining: 1m 18s\n",
            "700:\tlearn: 7.1248288\ttotal: 1m 25s\tremaining: 1m 6s\n",
            "800:\tlearn: 6.9439842\ttotal: 1m 37s\tremaining: 54.1s\n",
            "900:\tlearn: 6.7967204\ttotal: 1m 49s\tremaining: 41.9s\n",
            "1000:\tlearn: 6.6627697\ttotal: 2m 2s\tremaining: 29.7s\n",
            "1100:\tlearn: 6.5506639\ttotal: 2m 14s\tremaining: 17.4s\n",
            "1200:\tlearn: 6.4370479\ttotal: 2m 26s\tremaining: 5.23s\n",
            "1243:\tlearn: 6.3880889\ttotal: 2m 31s\tremaining: 0us\n",
            "Mean Squared Error: 87.53865670125025\n"
          ]
        }
      ]
    },
    {
      "cell_type": "markdown",
      "source": [
        "![image.png](data:image/png;base64,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)"
      ],
      "metadata": {
        "id": "ee-i-9_-nT_F"
      }
    },
    {
      "cell_type": "markdown",
      "source": [
        "Подбирать параметры для RandomForest оказалось очень долго, т.к. нельзя обучать с использованием GPU, поэтому проверили со стандартными параметрами и получили скор хуже (как правило, подбор параметров у RandomForest не дает столь значительный прирост)"
      ],
      "metadata": {
        "id": "muDkebQyoFPm"
      }
    },
    {
      "cell_type": "code",
      "source": [
        "rf = RandomForestRegressor()\n",
        "rf.fit(X_train, y_train)\n",
        "y_pred = rf.predict(X_val)\n",
        "\n",
        "rf_mse = mean_squared_error(y_val, y_pred)\n",
        "\n",
        "print(\"Mean Squared Error:\", rf_mse)"
      ],
      "metadata": {
        "colab": {
          "base_uri": "https://localhost:8080/"
        },
        "id": "Gouii3iEgEZG",
        "outputId": "1a064ae5-f215-412d-9557-0d10cd211a16"
      },
      "execution_count": null,
      "outputs": [
        {
          "output_type": "stream",
          "name": "stdout",
          "text": [
            "Mean Squared Error: 94.38940231584111\n"
          ]
        }
      ]
    },
    {
      "cell_type": "markdown",
      "source": [
        "![image.png](data:image/png;base64,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)"
      ],
      "metadata": {
        "id": "ETtAByAWnqgj"
      }
    },
    {
      "cell_type": "code",
      "source": [
        "from sklearn.linear_model import LinearRegression\n",
        "from sklearn.metrics import mean_squared_error\n",
        "\n",
        "lr = LinearRegression()\n",
        "\n",
        "lr.fit(X_train, y_train)\n",
        "\n",
        "y_pred = lr.predict(X_val)\n",
        "\n",
        "lr_mse = mean_squared_error(y_val, y_pred)\n",
        "\n",
        "print(\"Mean Squared Error:\", lr_mse)\n"
      ],
      "metadata": {
        "colab": {
          "base_uri": "https://localhost:8080/"
        },
        "id": "d7uUxzzxcBIY",
        "outputId": "c9df24ae-3ea0-4daa-c06e-653e815cb1e8"
      },
      "execution_count": null,
      "outputs": [
        {
          "output_type": "stream",
          "name": "stdout",
          "text": [
            "Mean Squared Error: 9.407325987991853e+18\n"
          ]
        }
      ]
    },
    {
      "cell_type": "markdown",
      "source": [
        "Видим, что CatBoost показал лучшие результаты"
      ],
      "metadata": {
        "id": "BT44BV9pqJOV"
      }
    },
    {
      "cell_type": "markdown",
      "metadata": {
        "id": "3psw005KllBK"
      },
      "source": [
        "Submission"
      ]
    },
    {
      "cell_type": "code",
      "execution_count": null,
      "metadata": {
        "id": "Zwun6_5jloQf",
        "colab": {
          "base_uri": "https://localhost:8080/"
        },
        "outputId": "8de86f7f-523e-4584-ea57-4c70d2bcba2f"
      },
      "outputs": [
        {
          "output_type": "stream",
          "name": "stdout",
          "text": [
            "0:\tlearn: 10.4091753\ttotal: 302ms\tremaining: 6m 26s\n",
            "100:\tlearn: 8.4843209\ttotal: 16.9s\tremaining: 3m 17s\n",
            "200:\tlearn: 7.9836755\ttotal: 32.2s\tremaining: 2m 53s\n",
            "300:\tlearn: 7.5686752\ttotal: 47.8s\tremaining: 2m 35s\n",
            "400:\tlearn: 7.2818810\ttotal: 1m 3s\tremaining: 2m 18s\n",
            "500:\tlearn: 7.0379447\ttotal: 1m 18s\tremaining: 2m 2s\n",
            "600:\tlearn: 6.8396976\ttotal: 1m 34s\tremaining: 1m 46s\n",
            "700:\tlearn: 6.6568486\ttotal: 1m 49s\tremaining: 1m 31s\n",
            "800:\tlearn: 6.5118187\ttotal: 2m 5s\tremaining: 1m 15s\n",
            "900:\tlearn: 6.4005343\ttotal: 2m 20s\tremaining: 59.6s\n",
            "1000:\tlearn: 6.2964610\ttotal: 2m 36s\tremaining: 43.9s\n",
            "1100:\tlearn: 6.2068074\ttotal: 2m 51s\tremaining: 28.2s\n",
            "1200:\tlearn: 6.1039141\ttotal: 3m 6s\tremaining: 12.6s\n",
            "1281:\tlearn: 6.0290636\ttotal: 3m 19s\tremaining: 0us\n"
          ]
        }
      ],
      "source": [
        "cat = CatBoostRegressor(verbose = 100,**params, task_type = 'GPU')\n",
        "cat.fit(X, y)\n",
        "\n",
        "subm = cat.predict(test)"
      ]
    },
    {
      "cell_type": "code",
      "source": [
        "submission = pd.read_csv('/content/sample_submit.csv')"
      ],
      "metadata": {
        "id": "40b1wFxw2LPR"
      },
      "execution_count": null,
      "outputs": []
    },
    {
      "cell_type": "code",
      "source": [
        "submission['mean_price'] = subm"
      ],
      "metadata": {
        "id": "DbS3EXP9smvK"
      },
      "execution_count": null,
      "outputs": []
    },
    {
      "cell_type": "code",
      "source": [
        "submission.to_csv('submission.csv', index=False)"
      ],
      "metadata": {
        "id": "b4CIv0e0tMto"
      },
      "execution_count": null,
      "outputs": []
    }
  ],
  "metadata": {
    "accelerator": "GPU",
    "colab": {
      "provenance": [],
      "gpuType": "T4"
    },
    "kernelspec": {
      "display_name": "Python 3",
      "name": "python3"
    },
    "language_info": {
      "name": "python"
    }
  },
  "nbformat": 4,
  "nbformat_minor": 0
}