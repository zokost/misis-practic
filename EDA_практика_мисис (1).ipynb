{
  "nbformat": 4,
  "nbformat_minor": 0,
  "metadata": {
    "colab": {
      "provenance": []
    },
    "kernelspec": {
      "name": "python3",
      "display_name": "Python 3"
    },
    "language_info": {
      "name": "python"
    }
  },
  "cells": [
    {
      "cell_type": "code",
      "execution_count": null,
      "metadata": {
        "id": "1YTxRRzGMf_h"
      },
      "outputs": [],
      "source": [
        "import numpy as np\n",
        "import pandas as pd\n",
        "import seaborn as sns\n",
        "import matplotlib.pyplot as plt"
      ]
    },
    {
      "cell_type": "code",
      "source": [
        "data = pd.read_excel('/content/train.xlsx')\n",
        "test = pd.read_excel('/content/test.xlsx')"
      ],
      "metadata": {
        "id": "CHyThcifMkzc"
      },
      "execution_count": null,
      "outputs": []
    },
    {
      "cell_type": "code",
      "source": [
        "data = data.drop(columns = 'Unnamed: 0')"
      ],
      "metadata": {
        "id": "uoRfUWgCMpG5"
      },
      "execution_count": null,
      "outputs": []
    },
    {
      "cell_type": "code",
      "source": [
        "data.head(5)"
      ],
      "metadata": {
        "colab": {
          "base_uri": "https://localhost:8080/",
          "height": 681
        },
        "id": "96hnDtt5M0CZ",
        "outputId": "e5895b42-3c84-4d67-b9c3-5a3d4a982495"
      },
      "execution_count": null,
      "outputs": [
        {
          "output_type": "execute_result",
          "data": {
            "text/plain": [
              "       предмет                                                ФИО  \\\n",
              "0   matematika  Репетитор по математике  Емельянова Марина Вла...   \n",
              "1   matematika  Репетитор по математике  Назарова Анастасия Ан...   \n",
              "2  informatika  Репетитор по информатике Мотроненко Инна Конст...   \n",
              "3   matematika  Репетитор по математике  Логинова Елизавета Ал...   \n",
              "4   matematika  Репетитор по математике  Харланов Олег Викторо...   \n",
              "\n",
              "                                     tutor_head_tags  tutor_rating  \\\n",
              "0  ['Школьная программа', 'Подготовка к ЕГЭ', 'По...           5.0   \n",
              "1  ['Школьная программа', 'Подготовка к ЕГЭ', 'По...           4.0   \n",
              "2  ['Школьная программа', 'Подготовка к ЕГЭ', 'По...           0.0   \n",
              "3  ['Школьная программа', 'Математический анализ'...           4.0   \n",
              "4  ['Школьная программа', 'Подготовка к ЕГЭ', 'По...           0.0   \n",
              "\n",
              "   tutor_reviews                                        description  \\\n",
              "0              2          Репетитор не предоставил о себе дополн...   \n",
              "1              7          Репетитор не предоставил о себе дополн...   \n",
              "2              0          Выезд за город: Балашиха-1, Балашиха-2...   \n",
              "3             19           Здравствуйте! Меня зовут Елизавета, о...   \n",
              "4              0          Целеустремленный, ориентирован на резу...   \n",
              "\n",
              "                                     experience_desc  \\\n",
              "0                                                NaN   \n",
              "1                                                NaN   \n",
              "2                      Московская Школа (учитель ...   \n",
              "3                                                NaN   \n",
              "4                       преподавателем           ...   \n",
              "\n",
              "                                         Education_1  \\\n",
              "0   Томский государственный университет им. В.В. ...   \n",
              "1   Вологодский государственный педагогический ун...   \n",
              "2   Московский городской педагогический университет    \n",
              "3   Санкт-Петербургский государственный университет    \n",
              "4   Приазовский государственный технический униве...   \n",
              "\n",
              "                                    Desc_Education_1  \\\n",
              "0   Год окончания: 1990, Факультет: механико-мате...   \n",
              "1   Год окончания: 2017, Факультет: факультет при...   \n",
              "2   Год окончания: 2008, Факультет: Математически...   \n",
              "3   Год окончания: 2021, Факультет: физический фа...   \n",
              "4   Год окончания: 2005, Факультет: Энергетически...   \n",
              "\n",
              "                                         Education_2  ...  \\\n",
              "0                                                NaN  ...   \n",
              "1          Череповецкий государственный университет   ...   \n",
              "2   Московский городской педагогический университ...  ...   \n",
              "3                                                NaN  ...   \n",
              "4                                                NaN  ...   \n",
              "\n",
              "                           status experience Desc_Education_5  \\\n",
              "0   Университетский преподаватель    31 год               NaN   \n",
              "1          Школьный преподаватель     8 лет               NaN   \n",
              "2          Школьный преподаватель    11 лет               NaN   \n",
              "3           Частный преподаватель     5 лет               NaN   \n",
              "4           Частный преподаватель    19 лет               NaN   \n",
              "\n",
              "  Desc_Education_6 Education_5 Education_6 Ученая степень 2 Ученое звание 2  \\\n",
              "0              NaN         NaN         NaN              NaN             NaN   \n",
              "1              NaN         NaN         NaN              NaN             NaN   \n",
              "2              NaN         NaN         NaN              NaN             NaN   \n",
              "3              NaN         NaN         NaN              NaN             NaN   \n",
              "4              NaN         NaN         NaN              NaN             NaN   \n",
              "\n",
              "                                          categories mean_price  \n",
              "0  ['Школьники с 5 по 9 класс', 'Школьники с 10 п...  16.666667  \n",
              "1  ['Школьники с 5 по 9 класс', 'Школьники с 10 п...  11.666667  \n",
              "2  ['Школьники с 5 по 9 класс', 'Школьники с 10 п...  23.333333  \n",
              "3  ['Школьники с 1 по 4 класс', 'Школьники с 5 по...   0.116667  \n",
              "4  ['Школьники с 5 по 9 класс', 'Школьники с 10 п...  16.666667  \n",
              "\n",
              "[5 rows x 27 columns]"
            ],
            "text/html": [
              "\n",
              "\n",
              "  <div id=\"df-4a32dc0a-971a-4e0f-9ae7-9a3af885f413\">\n",
              "    <div class=\"colab-df-container\">\n",
              "      <div>\n",
              "<style scoped>\n",
              "    .dataframe tbody tr th:only-of-type {\n",
              "        vertical-align: middle;\n",
              "    }\n",
              "\n",
              "    .dataframe tbody tr th {\n",
              "        vertical-align: top;\n",
              "    }\n",
              "\n",
              "    .dataframe thead th {\n",
              "        text-align: right;\n",
              "    }\n",
              "</style>\n",
              "<table border=\"1\" class=\"dataframe\">\n",
              "  <thead>\n",
              "    <tr style=\"text-align: right;\">\n",
              "      <th></th>\n",
              "      <th>предмет</th>\n",
              "      <th>ФИО</th>\n",
              "      <th>tutor_head_tags</th>\n",
              "      <th>tutor_rating</th>\n",
              "      <th>tutor_reviews</th>\n",
              "      <th>description</th>\n",
              "      <th>experience_desc</th>\n",
              "      <th>Education_1</th>\n",
              "      <th>Desc_Education_1</th>\n",
              "      <th>Education_2</th>\n",
              "      <th>...</th>\n",
              "      <th>status</th>\n",
              "      <th>experience</th>\n",
              "      <th>Desc_Education_5</th>\n",
              "      <th>Desc_Education_6</th>\n",
              "      <th>Education_5</th>\n",
              "      <th>Education_6</th>\n",
              "      <th>Ученая степень 2</th>\n",
              "      <th>Ученое звание 2</th>\n",
              "      <th>categories</th>\n",
              "      <th>mean_price</th>\n",
              "    </tr>\n",
              "  </thead>\n",
              "  <tbody>\n",
              "    <tr>\n",
              "      <th>0</th>\n",
              "      <td>matematika</td>\n",
              "      <td>Репетитор по математике  Емельянова Марина Вла...</td>\n",
              "      <td>['Школьная программа', 'Подготовка к ЕГЭ', 'По...</td>\n",
              "      <td>5.0</td>\n",
              "      <td>2</td>\n",
              "      <td>Репетитор не предоставил о себе дополн...</td>\n",
              "      <td>NaN</td>\n",
              "      <td>Томский государственный университет им. В.В. ...</td>\n",
              "      <td>Год окончания: 1990, Факультет: механико-мате...</td>\n",
              "      <td>NaN</td>\n",
              "      <td>...</td>\n",
              "      <td>Университетский преподаватель</td>\n",
              "      <td>31 год</td>\n",
              "      <td>NaN</td>\n",
              "      <td>NaN</td>\n",
              "      <td>NaN</td>\n",
              "      <td>NaN</td>\n",
              "      <td>NaN</td>\n",
              "      <td>NaN</td>\n",
              "      <td>['Школьники с 5 по 9 класс', 'Школьники с 10 п...</td>\n",
              "      <td>16.666667</td>\n",
              "    </tr>\n",
              "    <tr>\n",
              "      <th>1</th>\n",
              "      <td>matematika</td>\n",
              "      <td>Репетитор по математике  Назарова Анастасия Ан...</td>\n",
              "      <td>['Школьная программа', 'Подготовка к ЕГЭ', 'По...</td>\n",
              "      <td>4.0</td>\n",
              "      <td>7</td>\n",
              "      <td>Репетитор не предоставил о себе дополн...</td>\n",
              "      <td>NaN</td>\n",
              "      <td>Вологодский государственный педагогический ун...</td>\n",
              "      <td>Год окончания: 2017, Факультет: факультет при...</td>\n",
              "      <td>Череповецкий государственный университет</td>\n",
              "      <td>...</td>\n",
              "      <td>Школьный преподаватель</td>\n",
              "      <td>8 лет</td>\n",
              "      <td>NaN</td>\n",
              "      <td>NaN</td>\n",
              "      <td>NaN</td>\n",
              "      <td>NaN</td>\n",
              "      <td>NaN</td>\n",
              "      <td>NaN</td>\n",
              "      <td>['Школьники с 5 по 9 класс', 'Школьники с 10 п...</td>\n",
              "      <td>11.666667</td>\n",
              "    </tr>\n",
              "    <tr>\n",
              "      <th>2</th>\n",
              "      <td>informatika</td>\n",
              "      <td>Репетитор по информатике Мотроненко Инна Конст...</td>\n",
              "      <td>['Школьная программа', 'Подготовка к ЕГЭ', 'По...</td>\n",
              "      <td>0.0</td>\n",
              "      <td>0</td>\n",
              "      <td>Выезд за город: Балашиха-1, Балашиха-2...</td>\n",
              "      <td>Московская Школа (учитель ...</td>\n",
              "      <td>Московский городской педагогический университет</td>\n",
              "      <td>Год окончания: 2008, Факультет: Математически...</td>\n",
              "      <td>Московский городской педагогический университ...</td>\n",
              "      <td>...</td>\n",
              "      <td>Школьный преподаватель</td>\n",
              "      <td>11 лет</td>\n",
              "      <td>NaN</td>\n",
              "      <td>NaN</td>\n",
              "      <td>NaN</td>\n",
              "      <td>NaN</td>\n",
              "      <td>NaN</td>\n",
              "      <td>NaN</td>\n",
              "      <td>['Школьники с 5 по 9 класс', 'Школьники с 10 п...</td>\n",
              "      <td>23.333333</td>\n",
              "    </tr>\n",
              "    <tr>\n",
              "      <th>3</th>\n",
              "      <td>matematika</td>\n",
              "      <td>Репетитор по математике  Логинова Елизавета Ал...</td>\n",
              "      <td>['Школьная программа', 'Математический анализ'...</td>\n",
              "      <td>4.0</td>\n",
              "      <td>19</td>\n",
              "      <td>Здравствуйте! Меня зовут Елизавета, о...</td>\n",
              "      <td>NaN</td>\n",
              "      <td>Санкт-Петербургский государственный университет</td>\n",
              "      <td>Год окончания: 2021, Факультет: физический фа...</td>\n",
              "      <td>NaN</td>\n",
              "      <td>...</td>\n",
              "      <td>Частный преподаватель</td>\n",
              "      <td>5 лет</td>\n",
              "      <td>NaN</td>\n",
              "      <td>NaN</td>\n",
              "      <td>NaN</td>\n",
              "      <td>NaN</td>\n",
              "      <td>NaN</td>\n",
              "      <td>NaN</td>\n",
              "      <td>['Школьники с 1 по 4 класс', 'Школьники с 5 по...</td>\n",
              "      <td>0.116667</td>\n",
              "    </tr>\n",
              "    <tr>\n",
              "      <th>4</th>\n",
              "      <td>matematika</td>\n",
              "      <td>Репетитор по математике  Харланов Олег Викторо...</td>\n",
              "      <td>['Школьная программа', 'Подготовка к ЕГЭ', 'По...</td>\n",
              "      <td>0.0</td>\n",
              "      <td>0</td>\n",
              "      <td>Целеустремленный, ориентирован на резу...</td>\n",
              "      <td>преподавателем           ...</td>\n",
              "      <td>Приазовский государственный технический униве...</td>\n",
              "      <td>Год окончания: 2005, Факультет: Энергетически...</td>\n",
              "      <td>NaN</td>\n",
              "      <td>...</td>\n",
              "      <td>Частный преподаватель</td>\n",
              "      <td>19 лет</td>\n",
              "      <td>NaN</td>\n",
              "      <td>NaN</td>\n",
              "      <td>NaN</td>\n",
              "      <td>NaN</td>\n",
              "      <td>NaN</td>\n",
              "      <td>NaN</td>\n",
              "      <td>['Школьники с 5 по 9 класс', 'Школьники с 10 п...</td>\n",
              "      <td>16.666667</td>\n",
              "    </tr>\n",
              "  </tbody>\n",
              "</table>\n",
              "<p>5 rows × 27 columns</p>\n",
              "</div>\n",
              "      <button class=\"colab-df-convert\" onclick=\"convertToInteractive('df-4a32dc0a-971a-4e0f-9ae7-9a3af885f413')\"\n",
              "              title=\"Convert this dataframe to an interactive table.\"\n",
              "              style=\"display:none;\">\n",
              "\n",
              "  <svg xmlns=\"http://www.w3.org/2000/svg\" height=\"24px\"viewBox=\"0 0 24 24\"\n",
              "       width=\"24px\">\n",
              "    <path d=\"M0 0h24v24H0V0z\" fill=\"none\"/>\n",
              "    <path d=\"M18.56 5.44l.94 2.06.94-2.06 2.06-.94-2.06-.94-.94-2.06-.94 2.06-2.06.94zm-11 1L8.5 8.5l.94-2.06 2.06-.94-2.06-.94L8.5 2.5l-.94 2.06-2.06.94zm10 10l.94 2.06.94-2.06 2.06-.94-2.06-.94-.94-2.06-.94 2.06-2.06.94z\"/><path d=\"M17.41 7.96l-1.37-1.37c-.4-.4-.92-.59-1.43-.59-.52 0-1.04.2-1.43.59L10.3 9.45l-7.72 7.72c-.78.78-.78 2.05 0 2.83L4 21.41c.39.39.9.59 1.41.59.51 0 1.02-.2 1.41-.59l7.78-7.78 2.81-2.81c.8-.78.8-2.07 0-2.86zM5.41 20L4 18.59l7.72-7.72 1.47 1.35L5.41 20z\"/>\n",
              "  </svg>\n",
              "      </button>\n",
              "\n",
              "\n",
              "\n",
              "    <div id=\"df-e933e08e-2d8d-400f-83b8-e93ead799b6e\">\n",
              "      <button class=\"colab-df-quickchart\" onclick=\"quickchart('df-e933e08e-2d8d-400f-83b8-e93ead799b6e')\"\n",
              "              title=\"Suggest charts.\"\n",
              "              style=\"display:none;\">\n",
              "\n",
              "<svg xmlns=\"http://www.w3.org/2000/svg\" height=\"24px\"viewBox=\"0 0 24 24\"\n",
              "     width=\"24px\">\n",
              "    <g>\n",
              "        <path d=\"M19 3H5c-1.1 0-2 .9-2 2v14c0 1.1.9 2 2 2h14c1.1 0 2-.9 2-2V5c0-1.1-.9-2-2-2zM9 17H7v-7h2v7zm4 0h-2V7h2v10zm4 0h-2v-4h2v4z\"/>\n",
              "    </g>\n",
              "</svg>\n",
              "      </button>\n",
              "    </div>\n",
              "\n",
              "<style>\n",
              "  .colab-df-quickchart {\n",
              "    background-color: #E8F0FE;\n",
              "    border: none;\n",
              "    border-radius: 50%;\n",
              "    cursor: pointer;\n",
              "    display: none;\n",
              "    fill: #1967D2;\n",
              "    height: 32px;\n",
              "    padding: 0 0 0 0;\n",
              "    width: 32px;\n",
              "  }\n",
              "\n",
              "  .colab-df-quickchart:hover {\n",
              "    background-color: #E2EBFA;\n",
              "    box-shadow: 0px 1px 2px rgba(60, 64, 67, 0.3), 0px 1px 3px 1px rgba(60, 64, 67, 0.15);\n",
              "    fill: #174EA6;\n",
              "  }\n",
              "\n",
              "  [theme=dark] .colab-df-quickchart {\n",
              "    background-color: #3B4455;\n",
              "    fill: #D2E3FC;\n",
              "  }\n",
              "\n",
              "  [theme=dark] .colab-df-quickchart:hover {\n",
              "    background-color: #434B5C;\n",
              "    box-shadow: 0px 1px 3px 1px rgba(0, 0, 0, 0.15);\n",
              "    filter: drop-shadow(0px 1px 2px rgba(0, 0, 0, 0.3));\n",
              "    fill: #FFFFFF;\n",
              "  }\n",
              "</style>\n",
              "\n",
              "    <script>\n",
              "      async function quickchart(key) {\n",
              "        const containerElement = document.querySelector('#' + key);\n",
              "        const charts = await google.colab.kernel.invokeFunction(\n",
              "            'suggestCharts', [key], {});\n",
              "      }\n",
              "    </script>\n",
              "\n",
              "      <script>\n",
              "\n",
              "function displayQuickchartButton(domScope) {\n",
              "  let quickchartButtonEl =\n",
              "    domScope.querySelector('#df-e933e08e-2d8d-400f-83b8-e93ead799b6e button.colab-df-quickchart');\n",
              "  quickchartButtonEl.style.display =\n",
              "    google.colab.kernel.accessAllowed ? 'block' : 'none';\n",
              "}\n",
              "\n",
              "        displayQuickchartButton(document);\n",
              "      </script>\n",
              "      <style>\n",
              "    .colab-df-container {\n",
              "      display:flex;\n",
              "      flex-wrap:wrap;\n",
              "      gap: 12px;\n",
              "    }\n",
              "\n",
              "    .colab-df-convert {\n",
              "      background-color: #E8F0FE;\n",
              "      border: none;\n",
              "      border-radius: 50%;\n",
              "      cursor: pointer;\n",
              "      display: none;\n",
              "      fill: #1967D2;\n",
              "      height: 32px;\n",
              "      padding: 0 0 0 0;\n",
              "      width: 32px;\n",
              "    }\n",
              "\n",
              "    .colab-df-convert:hover {\n",
              "      background-color: #E2EBFA;\n",
              "      box-shadow: 0px 1px 2px rgba(60, 64, 67, 0.3), 0px 1px 3px 1px rgba(60, 64, 67, 0.15);\n",
              "      fill: #174EA6;\n",
              "    }\n",
              "\n",
              "    [theme=dark] .colab-df-convert {\n",
              "      background-color: #3B4455;\n",
              "      fill: #D2E3FC;\n",
              "    }\n",
              "\n",
              "    [theme=dark] .colab-df-convert:hover {\n",
              "      background-color: #434B5C;\n",
              "      box-shadow: 0px 1px 3px 1px rgba(0, 0, 0, 0.15);\n",
              "      filter: drop-shadow(0px 1px 2px rgba(0, 0, 0, 0.3));\n",
              "      fill: #FFFFFF;\n",
              "    }\n",
              "  </style>\n",
              "\n",
              "      <script>\n",
              "        const buttonEl =\n",
              "          document.querySelector('#df-4a32dc0a-971a-4e0f-9ae7-9a3af885f413 button.colab-df-convert');\n",
              "        buttonEl.style.display =\n",
              "          google.colab.kernel.accessAllowed ? 'block' : 'none';\n",
              "\n",
              "        async function convertToInteractive(key) {\n",
              "          const element = document.querySelector('#df-4a32dc0a-971a-4e0f-9ae7-9a3af885f413');\n",
              "          const dataTable =\n",
              "            await google.colab.kernel.invokeFunction('convertToInteractive',\n",
              "                                                     [key], {});\n",
              "          if (!dataTable) return;\n",
              "\n",
              "          const docLinkHtml = 'Like what you see? Visit the ' +\n",
              "            '<a target=\"_blank\" href=https://colab.research.google.com/notebooks/data_table.ipynb>data table notebook</a>'\n",
              "            + ' to learn more about interactive tables.';\n",
              "          element.innerHTML = '';\n",
              "          dataTable['output_type'] = 'display_data';\n",
              "          await google.colab.output.renderOutput(dataTable, element);\n",
              "          const docLink = document.createElement('div');\n",
              "          docLink.innerHTML = docLinkHtml;\n",
              "          element.appendChild(docLink);\n",
              "        }\n",
              "      </script>\n",
              "    </div>\n",
              "  </div>\n"
            ]
          },
          "metadata": {},
          "execution_count": 13
        }
      ]
    },
    {
      "cell_type": "markdown",
      "source": [
        "Уберем столбцы, где почти все пропуски, т.к. они не несут в себе важную информацию, а так же ФИО не влияет на зарплату"
      ],
      "metadata": {
        "id": "0Bxw_Xv4RqO8"
      }
    },
    {
      "cell_type": "code",
      "source": [
        "data = data.drop(columns = ['Desc_Education_5', 'Desc_Education_6', 'Education_5', 'Education_6', 'Ученая степень 2', 'Ученое звание 2', 'ФИО'])\n",
        "test = test.drop(columns = ['Desc_Education_5', 'Desc_Education_6', 'Education_5', 'Education_6', 'Ученая степень 2', 'Ученое звание 2', 'ФИО'])"
      ],
      "metadata": {
        "id": "XcMfT_iaRnI4"
      },
      "execution_count": null,
      "outputs": []
    },
    {
      "cell_type": "markdown",
      "source": [
        "Заполним пропуски"
      ],
      "metadata": {
        "id": "aiUGY2NPR7hQ"
      }
    },
    {
      "cell_type": "code",
      "source": [
        "data.isna().sum()"
      ],
      "metadata": {
        "colab": {
          "base_uri": "https://localhost:8080/"
        },
        "id": "cXVl9PgER59N",
        "outputId": "d32a758a-bf66-4785-f0ea-d6b505af5b1c"
      },
      "execution_count": null,
      "outputs": [
        {
          "output_type": "execute_result",
          "data": {
            "text/plain": [
              "предмет                0\n",
              "ФИО                    0\n",
              "tutor_head_tags        0\n",
              "tutor_rating         589\n",
              "tutor_reviews          0\n",
              "description            1\n",
              "experience_desc        0\n",
              "Education_1            0\n",
              "Desc_Education_1      76\n",
              "Education_2         3767\n",
              "Desc_Education_2    3771\n",
              "Education_3         4442\n",
              "Desc_Education_3    4443\n",
              "Education_4         4532\n",
              "Desc_Education_4    4532\n",
              "Ученая степень 1    4472\n",
              "Ученое звание 1     4513\n",
              "status                13\n",
              "experience            25\n",
              "Desc_Education_5    4545\n",
              "Desc_Education_6    4547\n",
              "Education_5         4545\n",
              "Education_6         4547\n",
              "Ученая степень 2    4547\n",
              "Ученое звание 2     4547\n",
              "categories             0\n",
              "mean_price             0\n",
              "dtype: int64"
            ]
          },
          "metadata": {},
          "execution_count": 16
        }
      ]
    },
    {
      "cell_type": "markdown",
      "source": [
        "Если tutor_rating пропущена, то это должен быть новый пользователь и рейтинга у него нет"
      ],
      "metadata": {
        "id": "7_eBC9JBSNNF"
      }
    },
    {
      "cell_type": "code",
      "source": [
        "data['tutor_rating']"
      ],
      "metadata": {
        "colab": {
          "base_uri": "https://localhost:8080/"
        },
        "id": "vy_9I5dfSO9-",
        "outputId": "26d924e8-28de-4854-c1a0-66230917d488"
      },
      "execution_count": null,
      "outputs": [
        {
          "output_type": "execute_result",
          "data": {
            "text/plain": [
              "0       5.0\n",
              "1       4.0\n",
              "2       0.0\n",
              "3       4.0\n",
              "4       0.0\n",
              "       ... \n",
              "4543    4.0\n",
              "4544    0.0\n",
              "4545    0.0\n",
              "4546    0.0\n",
              "4547    0.0\n",
              "Name: tutor_rating, Length: 4548, dtype: float64"
            ]
          },
          "metadata": {},
          "execution_count": 17
        }
      ]
    },
    {
      "cell_type": "code",
      "source": [
        "data['tutor_rating'] = data['tutor_rating'].fillna(0)\n",
        "\n",
        "test['tutor_rating'] = test['tutor_rating'].fillna(0)"
      ],
      "metadata": {
        "id": "5hFZzcH8SR25"
      },
      "execution_count": null,
      "outputs": []
    },
    {
      "cell_type": "markdown",
      "source": [
        "Если description пропущено, то можем просто заемнить его пустой строкой"
      ],
      "metadata": {
        "id": "B4faWI71SUW8"
      }
    },
    {
      "cell_type": "code",
      "source": [
        "data['description'] = data['description'].fillna('')\n",
        "\n",
        "test['description'] = test['description'].fillna('')"
      ],
      "metadata": {
        "id": "svwJ2RjtSV5P"
      },
      "execution_count": null,
      "outputs": []
    },
    {
      "cell_type": "markdown",
      "source": [
        "Аналогично с experience_description и desc_eductation"
      ],
      "metadata": {
        "id": "ODft4C8xSYRm"
      }
    },
    {
      "cell_type": "code",
      "source": [
        "data['experience_desc'] = data['experience_desc'].fillna('')\n",
        "data['Desc_Education_1'] = data['Desc_Education_1'].fillna('')\n",
        "data['Desc_Education_2'] = data['Desc_Education_2'].fillna('')\n",
        "data['Desc_Education_3'] = data['Desc_Education_3'].fillna('')\n",
        "data['Desc_Education_4'] = data['Desc_Education_4'].fillna('')\n",
        "\n",
        "test['experience_desc'] = test['experience_desc'].fillna('')\n",
        "test['Desc_Education_1'] = test['Desc_Education_1'].fillna('')\n",
        "test['Desc_Education_2'] = test['Desc_Education_2'].fillna('')\n",
        "test['Desc_Education_3'] = test['Desc_Education_3'].fillna('')\n",
        "test['Desc_Education_4'] = test['Desc_Education_4'].fillna('')"
      ],
      "metadata": {
        "id": "K3OWX-6yScMT"
      },
      "execution_count": null,
      "outputs": []
    },
    {
      "cell_type": "markdown",
      "source": [
        "Если какое-то из образований пропущено, то, скорее всего, его просто нет"
      ],
      "metadata": {
        "id": "cBx3tyJISYbE"
      }
    },
    {
      "cell_type": "code",
      "source": [
        "data['Education_2'] = data['Education_2'].fillna('')\n",
        "data['Education_3'] = data['Education_3'].fillna('')\n",
        "data['Education_4'] = data['Education_4'].fillna('')\n",
        "data['Ученая степень 1'] = data['Ученая степень 1'].fillna('')\n",
        "data['Ученое звание 1'] = data['Ученое звание 1'].fillna('')\n",
        "\n",
        "test['Education_2'] = test['Education_2'].fillna('')\n",
        "test['Education_3'] = test['Education_3'].fillna('')\n",
        "test['Education_4'] = test['Education_4'].fillna('')\n",
        "test['Ученая степень 1'] = test['Ученая степень 1'].fillna('')\n",
        "test['Ученое звание 1'] = test['Ученое звание 1'].fillna('')\n",
        "\n",
        "data['status'] = data['status'].fillna('')\n",
        "\n",
        "test['status'] = test['status'].fillna('')"
      ],
      "metadata": {
        "id": "tP2mzYj6SiT8"
      },
      "execution_count": null,
      "outputs": []
    },
    {
      "cell_type": "markdown",
      "source": [
        "Если experience не указан, тог можем предположин, что это новый репетитор без опыта работы"
      ],
      "metadata": {
        "id": "fXYvym1ZSYf5"
      }
    },
    {
      "cell_type": "code",
      "source": [
        "data['experience'] = data['experience'].fillna('0 лет')\n",
        "\n",
        "test['experience'] = test['experience'].fillna('0 лет')"
      ],
      "metadata": {
        "id": "DzLpHKMvSqtY"
      },
      "execution_count": null,
      "outputs": []
    },
    {
      "cell_type": "code",
      "source": [
        "data.isna().sum()"
      ],
      "metadata": {
        "colab": {
          "base_uri": "https://localhost:8080/"
        },
        "id": "alLKfT_mSu8r",
        "outputId": "8060120b-0660-402d-9651-b88ada1868f9"
      },
      "execution_count": null,
      "outputs": [
        {
          "output_type": "execute_result",
          "data": {
            "text/plain": [
              "предмет             0\n",
              "tutor_head_tags     0\n",
              "tutor_rating        0\n",
              "tutor_reviews       0\n",
              "description         0\n",
              "experience_desc     0\n",
              "Education_1         0\n",
              "Desc_Education_1    0\n",
              "Education_2         0\n",
              "Desc_Education_2    0\n",
              "Education_3         0\n",
              "Desc_Education_3    0\n",
              "Education_4         0\n",
              "Desc_Education_4    0\n",
              "Ученая степень 1    0\n",
              "Ученое звание 1     0\n",
              "status              0\n",
              "experience          0\n",
              "categories          0\n",
              "mean_price          0\n",
              "dtype: int64"
            ]
          },
          "metadata": {},
          "execution_count": 25
        }
      ]
    },
    {
      "cell_type": "markdown",
      "source": [
        "Закодируем eperience_desc, 0 значит, что описание отстутствует, а 1 обратное"
      ],
      "metadata": {
        "id": "Es9YZSI_TD_-"
      }
    },
    {
      "cell_type": "code",
      "source": [
        "data['experience_desc'] = np.where(data['experience_desc'].isnull(), 0, 1)"
      ],
      "metadata": {
        "id": "YJru8U6YM8Kw"
      },
      "execution_count": null,
      "outputs": []
    },
    {
      "cell_type": "markdown",
      "source": [
        "Преобразуем опыт работы в int для следующей аналитики"
      ],
      "metadata": {
        "id": "P2KUy0WPS914"
      }
    },
    {
      "cell_type": "code",
      "source": [
        "data['experience'] = data['experience'].fillna('0 лет')\n",
        "data['experience'] = data['experience'].str.extract(r'(\\d+)')\n",
        "data['experience'] = data['experience'].astype(int)"
      ],
      "metadata": {
        "id": "w2ALD4iPNNHY"
      },
      "execution_count": null,
      "outputs": []
    },
    {
      "cell_type": "markdown",
      "source": [
        "С помощью OHE закодируем предмет\n",
        "\n"
      ],
      "metadata": {
        "id": "yyqU1E1XTL8b"
      }
    },
    {
      "cell_type": "code",
      "source": [
        "data['предмет'] = data['предмет'].replace({'matematika': 1, 'informatika': 0})"
      ],
      "metadata": {
        "id": "qeGdtNZxNlOA"
      },
      "execution_count": null,
      "outputs": []
    },
    {
      "cell_type": "markdown",
      "source": [
        "Есть гипотеза, что чем больше образований у человека, тем больше стоят его услуги, проверим:"
      ],
      "metadata": {
        "id": "V9zPqxHaHAWN"
      }
    },
    {
      "cell_type": "code",
      "source": [
        "data['Count'] = data[['Education_1', 'Education_2', 'Education_3', 'Education_4']].count(axis=1)"
      ],
      "metadata": {
        "id": "0yU98J6TN91I"
      },
      "execution_count": null,
      "outputs": []
    },
    {
      "cell_type": "code",
      "source": [
        "plt.scatter(data['Count'], data['mean_price'])\n",
        "plt.xlabel('Count')\n",
        "plt.ylabel('mean_price')\n",
        "plt.title('Зависимость между Count и mean_price')\n",
        "plt.show()"
      ],
      "metadata": {
        "colab": {
          "base_uri": "https://localhost:8080/",
          "height": 472
        },
        "id": "N0ZdZlCdN-bV",
        "outputId": "dffec9da-de51-44b6-aab1-40ee949a19c8"
      },
      "execution_count": null,
      "outputs": [
        {
          "output_type": "display_data",
          "data": {
            "text/plain": [
              "<Figure size 640x480 with 1 Axes>"
            ],
            "image/png": "[encoded data removed]"
          },
          "metadata": {}
        }
      ]
    },
    {
      "cell_type": "markdown",
      "source": [
        "Видим, что количество образований, в целом, не влияет на ценообразование. Наоборот, высшие точки достигаются обратным образом - чем меньше образований, тем выше максимальная цена в этой категории, однако это можно списать на количество людей в выборке"
      ],
      "metadata": {
        "id": "YwVwVsfPHP_9"
      }
    },
    {
      "cell_type": "code",
      "source": [
        "data.describe()"
      ],
      "metadata": {
        "colab": {
          "base_uri": "https://localhost:8080/",
          "height": 300
        },
        "id": "yZuK1ow5O4ec",
        "outputId": "c589298b-13b4-42ba-985e-e75ee2392373"
      },
      "execution_count": null,
      "outputs": [
        {
          "output_type": "execute_result",
          "data": {
            "text/plain": [
              "           предмет  tutor_rating  tutor_reviews  experience_desc   experience  \\\n",
              "count  4548.000000   3959.000000    4548.000000      4548.000000  4548.000000   \n",
              "mean      0.810246      1.895933       2.989006         0.477353    10.388962   \n",
              "std       0.392149      2.280103       8.516939         0.499542     9.556758   \n",
              "min       0.000000      0.000000       0.000000         0.000000     0.000000   \n",
              "25%       1.000000      0.000000       0.000000         0.000000     4.000000   \n",
              "50%       1.000000      0.000000       0.000000         0.000000     7.000000   \n",
              "75%       1.000000      4.000000       2.000000         1.000000    13.000000   \n",
              "max       1.000000      5.000000     152.000000         1.000000    68.000000   \n",
              "\n",
              "        mean_price        Count  \n",
              "count  4548.000000  4548.000000  \n",
              "mean     16.197949     1.198549  \n",
              "std      10.485108     0.468894  \n",
              "min       0.041667     1.000000  \n",
              "25%      10.000000     1.000000  \n",
              "50%      15.000000     1.000000  \n",
              "75%      20.888889     1.000000  \n",
              "max     100.000000     4.000000  "
            ],
            "text/html": [
              "\n",
              "\n",
              "  <div id=\"df-b9685dfb-959a-453e-b748-0ee656bef79a\">\n",
              "    <div class=\"colab-df-container\">\n",
              "      <div>\n",
              "<style scoped>\n",
              "    .dataframe tbody tr th:only-of-type {\n",
              "        vertical-align: middle;\n",
              "    }\n",
              "\n",
              "    .dataframe tbody tr th {\n",
              "        vertical-align: top;\n",
              "    }\n",
              "\n",
              "    .dataframe thead th {\n",
              "        text-align: right;\n",
              "    }\n",
              "</style>\n",
              "<table border=\"1\" class=\"dataframe\">\n",
              "  <thead>\n",
              "    <tr style=\"text-align: right;\">\n",
              "      <th></th>\n",
              "      <th>предмет</th>\n",
              "      <th>tutor_rating</th>\n",
              "      <th>tutor_reviews</th>\n",
              "      <th>experience_desc</th>\n",
              "      <th>experience</th>\n",
              "      <th>mean_price</th>\n",
              "      <th>Count</th>\n",
              "    </tr>\n",
              "  </thead>\n",
              "  <tbody>\n",
              "    <tr>\n",
              "      <th>count</th>\n",
              "      <td>4548.000000</td>\n",
              "      <td>3959.000000</td>\n",
              "      <td>4548.000000</td>\n",
              "      <td>4548.000000</td>\n",
              "      <td>4548.000000</td>\n",
              "      <td>4548.000000</td>\n",
              "      <td>4548.000000</td>\n",
              "    </tr>\n",
              "    <tr>\n",
              "      <th>mean</th>\n",
              "      <td>0.810246</td>\n",
              "      <td>1.895933</td>\n",
              "      <td>2.989006</td>\n",
              "      <td>0.477353</td>\n",
              "      <td>10.388962</td>\n",
              "      <td>16.197949</td>\n",
              "      <td>1.198549</td>\n",
              "    </tr>\n",
              "    <tr>\n",
              "      <th>std</th>\n",
              "      <td>0.392149</td>\n",
              "      <td>2.280103</td>\n",
              "      <td>8.516939</td>\n",
              "      <td>0.499542</td>\n",
              "      <td>9.556758</td>\n",
              "      <td>10.485108</td>\n",
              "      <td>0.468894</td>\n",
              "    </tr>\n",
              "    <tr>\n",
              "      <th>min</th>\n",
              "      <td>0.000000</td>\n",
              "      <td>0.000000</td>\n",
              "      <td>0.000000</td>\n",
              "      <td>0.000000</td>\n",
              "      <td>0.000000</td>\n",
              "      <td>0.041667</td>\n",
              "      <td>1.000000</td>\n",
              "    </tr>\n",
              "    <tr>\n",
              "      <th>25%</th>\n",
              "      <td>1.000000</td>\n",
              "      <td>0.000000</td>\n",
              "      <td>0.000000</td>\n",
              "      <td>0.000000</td>\n",
              "      <td>4.000000</td>\n",
              "      <td>10.000000</td>\n",
              "      <td>1.000000</td>\n",
              "    </tr>\n",
              "    <tr>\n",
              "      <th>50%</th>\n",
              "      <td>1.000000</td>\n",
              "      <td>0.000000</td>\n",
              "      <td>0.000000</td>\n",
              "      <td>0.000000</td>\n",
              "      <td>7.000000</td>\n",
              "      <td>15.000000</td>\n",
              "      <td>1.000000</td>\n",
              "    </tr>\n",
              "    <tr>\n",
              "      <th>75%</th>\n",
              "      <td>1.000000</td>\n",
              "      <td>4.000000</td>\n",
              "      <td>2.000000</td>\n",
              "      <td>1.000000</td>\n",
              "      <td>13.000000</td>\n",
              "      <td>20.888889</td>\n",
              "      <td>1.000000</td>\n",
              "    </tr>\n",
              "    <tr>\n",
              "      <th>max</th>\n",
              "      <td>1.000000</td>\n",
              "      <td>5.000000</td>\n",
              "      <td>152.000000</td>\n",
              "      <td>1.000000</td>\n",
              "      <td>68.000000</td>\n",
              "      <td>100.000000</td>\n",
              "      <td>4.000000</td>\n",
              "    </tr>\n",
              "  </tbody>\n",
              "</table>\n",
              "</div>\n",
              "      <button class=\"colab-df-convert\" onclick=\"convertToInteractive('df-b9685dfb-959a-453e-b748-0ee656bef79a')\"\n",
              "              title=\"Convert this dataframe to an interactive table.\"\n",
              "              style=\"display:none;\">\n",
              "\n",
              "  <svg xmlns=\"http://www.w3.org/2000/svg\" height=\"24px\"viewBox=\"0 0 24 24\"\n",
              "       width=\"24px\">\n",
              "    <path d=\"M0 0h24v24H0V0z\" fill=\"none\"/>\n",
              "    <path d=\"M18.56 5.44l.94 2.06.94-2.06 2.06-.94-2.06-.94-.94-2.06-.94 2.06-2.06.94zm-11 1L8.5 8.5l.94-2.06 2.06-.94-2.06-.94L8.5 2.5l-.94 2.06-2.06.94zm10 10l.94 2.06.94-2.06 2.06-.94-2.06-.94-.94-2.06-.94 2.06-2.06.94z\"/><path d=\"M17.41 7.96l-1.37-1.37c-.4-.4-.92-.59-1.43-.59-.52 0-1.04.2-1.43.59L10.3 9.45l-7.72 7.72c-.78.78-.78 2.05 0 2.83L4 21.41c.39.39.9.59 1.41.59.51 0 1.02-.2 1.41-.59l7.78-7.78 2.81-2.81c.8-.78.8-2.07 0-2.86zM5.41 20L4 18.59l7.72-7.72 1.47 1.35L5.41 20z\"/>\n",
              "  </svg>\n",
              "      </button>\n",
              "\n",
              "\n",
              "\n",
              "    <div id=\"df-a064cb63-6670-44e2-910f-cbeca24267a8\">\n",
              "      <button class=\"colab-df-quickchart\" onclick=\"quickchart('df-a064cb63-6670-44e2-910f-cbeca24267a8')\"\n",
              "              title=\"Suggest charts.\"\n",
              "              style=\"display:none;\">\n",
              "\n",
              "<svg xmlns=\"http://www.w3.org/2000/svg\" height=\"24px\"viewBox=\"0 0 24 24\"\n",
              "     width=\"24px\">\n",
              "    <g>\n",
              "        <path d=\"M19 3H5c-1.1 0-2 .9-2 2v14c0 1.1.9 2 2 2h14c1.1 0 2-.9 2-2V5c0-1.1-.9-2-2-2zM9 17H7v-7h2v7zm4 0h-2V7h2v10zm4 0h-2v-4h2v4z\"/>\n",
              "    </g>\n",
              "</svg>\n",
              "      </button>\n",
              "    </div>\n",
              "\n",
              "<style>\n",
              "  .colab-df-quickchart {\n",
              "    background-color: #E8F0FE;\n",
              "    border: none;\n",
              "    border-radius: 50%;\n",
              "    cursor: pointer;\n",
              "    display: none;\n",
              "    fill: #1967D2;\n",
              "    height: 32px;\n",
              "    padding: 0 0 0 0;\n",
              "    width: 32px;\n",
              "  }\n",
              "\n",
              "  .colab-df-quickchart:hover {\n",
              "    background-color: #E2EBFA;\n",
              "    box-shadow: 0px 1px 2px rgba(60, 64, 67, 0.3), 0px 1px 3px 1px rgba(60, 64, 67, 0.15);\n",
              "    fill: #174EA6;\n",
              "  }\n",
              "\n",
              "  [theme=dark] .colab-df-quickchart {\n",
              "    background-color: #3B4455;\n",
              "    fill: #D2E3FC;\n",
              "  }\n",
              "\n",
              "  [theme=dark] .colab-df-quickchart:hover {\n",
              "    background-color: #434B5C;\n",
              "    box-shadow: 0px 1px 3px 1px rgba(0, 0, 0, 0.15);\n",
              "    filter: drop-shadow(0px 1px 2px rgba(0, 0, 0, 0.3));\n",
              "    fill: #FFFFFF;\n",
              "  }\n",
              "</style>\n",
              "\n",
              "    <script>\n",
              "      async function quickchart(key) {\n",
              "        const containerElement = document.querySelector('#' + key);\n",
              "        const charts = await google.colab.kernel.invokeFunction(\n",
              "            'suggestCharts', [key], {});\n",
              "      }\n",
              "    </script>\n",
              "\n",
              "      <script>\n",
              "\n",
              "function displayQuickchartButton(domScope) {\n",
              "  let quickchartButtonEl =\n",
              "    domScope.querySelector('#df-a064cb63-6670-44e2-910f-cbeca24267a8 button.colab-df-quickchart');\n",
              "  quickchartButtonEl.style.display =\n",
              "    google.colab.kernel.accessAllowed ? 'block' : 'none';\n",
              "}\n",
              "\n",
              "        displayQuickchartButton(document);\n",
              "      </script>\n",
              "      <style>\n",
              "    .colab-df-container {\n",
              "      display:flex;\n",
              "      flex-wrap:wrap;\n",
              "      gap: 12px;\n",
              "    }\n",
              "\n",
              "    .colab-df-convert {\n",
              "      background-color: #E8F0FE;\n",
              "      border: none;\n",
              "      border-radius: 50%;\n",
              "      cursor: pointer;\n",
              "      display: none;\n",
              "      fill: #1967D2;\n",
              "      height: 32px;\n",
              "      padding: 0 0 0 0;\n",
              "      width: 32px;\n",
              "    }\n",
              "\n",
              "    .colab-df-convert:hover {\n",
              "      background-color: #E2EBFA;\n",
              "      box-shadow: 0px 1px 2px rgba(60, 64, 67, 0.3), 0px 1px 3px 1px rgba(60, 64, 67, 0.15);\n",
              "      fill: #174EA6;\n",
              "    }\n",
              "\n",
              "    [theme=dark] .colab-df-convert {\n",
              "      background-color: #3B4455;\n",
              "      fill: #D2E3FC;\n",
              "    }\n",
              "\n",
              "    [theme=dark] .colab-df-convert:hover {\n",
              "      background-color: #434B5C;\n",
              "      box-shadow: 0px 1px 3px 1px rgba(0, 0, 0, 0.15);\n",
              "      filter: drop-shadow(0px 1px 2px rgba(0, 0, 0, 0.3));\n",
              "      fill: #FFFFFF;\n",
              "    }\n",
              "  </style>\n",
              "\n",
              "      <script>\n",
              "        const buttonEl =\n",
              "          document.querySelector('#df-b9685dfb-959a-453e-b748-0ee656bef79a button.colab-df-convert');\n",
              "        buttonEl.style.display =\n",
              "          google.colab.kernel.accessAllowed ? 'block' : 'none';\n",
              "\n",
              "        async function convertToInteractive(key) {\n",
              "          const element = document.querySelector('#df-b9685dfb-959a-453e-b748-0ee656bef79a');\n",
              "          const dataTable =\n",
              "            await google.colab.kernel.invokeFunction('convertToInteractive',\n",
              "                                                     [key], {});\n",
              "          if (!dataTable) return;\n",
              "\n",
              "          const docLinkHtml = 'Like what you see? Visit the ' +\n",
              "            '<a target=\"_blank\" href=https://colab.research.google.com/notebooks/data_table.ipynb>data table notebook</a>'\n",
              "            + ' to learn more about interactive tables.';\n",
              "          element.innerHTML = '';\n",
              "          dataTable['output_type'] = 'display_data';\n",
              "          await google.colab.output.renderOutput(dataTable, element);\n",
              "          const docLink = document.createElement('div');\n",
              "          docLink.innerHTML = docLinkHtml;\n",
              "          element.appendChild(docLink);\n",
              "        }\n",
              "      </script>\n",
              "    </div>\n",
              "  </div>\n"
            ]
          },
          "metadata": {},
          "execution_count": 11
        }
      ]
    },
    {
      "cell_type": "markdown",
      "source": [
        "Предположим, что наш таргет распределен нормально, тогда будет гораздо проще работать с ним, проверим:"
      ],
      "metadata": {
        "id": "iTt81ONFHtb-"
      }
    },
    {
      "cell_type": "code",
      "source": [
        "import matplotlib.pyplot as plt\n",
        "\n",
        "\n",
        "plt.hist(data['mean_price'], bins=100)\n",
        "plt.xlabel('mean_price')\n",
        "plt.ylabel('Частота')\n",
        "plt.title('Распределение mean_price')\n",
        "plt.show()"
      ],
      "metadata": {
        "colab": {
          "base_uri": "https://localhost:8080/",
          "height": 472
        },
        "id": "9dbPisulPBVs",
        "outputId": "f75f0b7c-de26-4dd0-e0fa-14a4f9c6b8a6"
      },
      "execution_count": null,
      "outputs": [
        {
          "output_type": "display_data",
          "data": {
            "text/plain": [
              "<Figure size 640x480 with 1 Axes>"
            ],
            "image/png": "[encoded data removed]"
          },
          "metadata": {}
        }
      ]
    },
    {
      "cell_type": "markdown",
      "source": [
        "По графику отчетливо видно, что распределение цены не нормально"
      ],
      "metadata": {
        "id": "6LL0seXYq-uD"
      }
    },
    {
      "cell_type": "markdown",
      "source": [
        "Есть гипотеза, что преподаватели с высоким рейтингом (>= 4) в среднем ставят большую цену, проверим:"
      ],
      "metadata": {
        "id": "h7T0dnb2KO1k"
      }
    },
    {
      "cell_type": "code",
      "source": [
        "from scipy import stats\n",
        "\n",
        "prices_high_rating = data[data['tutor_rating'] >= 4]['mean_price']\n",
        "prices_low_rating = data[data['tutor_rating'] < 4]['mean_price']\n",
        "\n",
        "t_statistic, p_value = stats.ttest_ind(prices_high_rating, prices_low_rating, equal_var=False)\n",
        "\n",
        "print(\"t-статистика:\", t_statistic)\n",
        "print(\"p-значение:\", p_value)\n"
      ],
      "metadata": {
        "id": "GSdzV_kzPP6L",
        "colab": {
          "base_uri": "https://localhost:8080/"
        },
        "outputId": "09fd7831-7ae4-482f-b75f-6e74bc473158"
      },
      "execution_count": null,
      "outputs": [
        {
          "output_type": "stream",
          "name": "stdout",
          "text": [
            "t-статистика: 6.752493672069277\n",
            "p-значение: 1.7061218767842568e-11\n"
          ]
        }
      ]
    },
    {
      "cell_type": "code",
      "source": [
        "plt.hist(prices_high_rating, bins=20, alpha=0.5, label='Высокий рейтинг')\n",
        "plt.hist(prices_low_rating, bins=20, alpha=0.5, label='Низкий рейтинг')\n",
        "\n",
        "plt.axvline(prices_high_rating.mean(), color='blue', linestyle='dashed', linewidth=2, label='Средняя цена (высокий рейтинг)')\n",
        "plt.axvline(prices_low_rating.mean(), color='orange', linestyle='dashed', linewidth=2, label='Средняя цена (низкий рейтинг)')\n",
        "\n",
        "plt.xlabel('Цена занятия')\n",
        "plt.ylabel('Частота')\n",
        "plt.legend()\n",
        "\n",
        "plt.show()\n"
      ],
      "metadata": {
        "colab": {
          "base_uri": "https://localhost:8080/",
          "height": 449
        },
        "id": "Cirqf1L3Khve",
        "outputId": "4df2075d-49d2-426a-b4b6-57b4e731e52a"
      },
      "execution_count": null,
      "outputs": [
        {
          "output_type": "display_data",
          "data": {
            "text/plain": [
              "<Figure size 640x480 with 1 Axes>"
            ],
            "image/png": "[encoded data removed]"
          },
          "metadata": {}
        }
      ]
    },
    {
      "cell_type": "markdown",
      "source": [
        "Видим, что t-статистика значительно больше 0, а p-значение меньше обычного уровня значимости 0.05, значит рейтинг репетитора влияет на ценообразование и цена у репетиторов с бОльшим рейтингом больше. Так же, мы это видим и по графику"
      ],
      "metadata": {
        "id": "HQw4ajvtJwR6"
      }
    },
    {
      "cell_type": "markdown",
      "source": [
        "Рассмотрим ещё одну гипотезу: репетиторы с описанием своего опыта ставят бОльшую цену, чем люди без этого критерия"
      ],
      "metadata": {
        "id": "NLGOTuQ5shdG"
      }
    },
    {
      "cell_type": "code",
      "source": [
        "from scipy import stats\n",
        "\n",
        "prices_with_experience = data[data['experience_desc'] == 1]['mean_price']\n",
        "prices_without_experience = data[data['experience_desc'] == 0]['mean_price']\n",
        "\n",
        "t_statistic, p_value = stats.ttest_ind(prices_with_experience, prices_without_experience, equal_var=False)\n",
        "\n",
        "print(\"t-статистика:\", t_statistic)\n",
        "print(\"p-значение:\", p_value)\n"
      ],
      "metadata": {
        "colab": {
          "base_uri": "https://localhost:8080/"
        },
        "id": "M-Pr9jDwrIUu",
        "outputId": "bef31442-9cf8-450b-d06a-b5905481ebbc"
      },
      "execution_count": null,
      "outputs": [
        {
          "output_type": "stream",
          "name": "stdout",
          "text": [
            "t-статистика: 14.587737909233836\n",
            "p-значение: 5.281709050314982e-47\n"
          ]
        }
      ]
    },
    {
      "cell_type": "markdown",
      "source": [
        "Видим, что гипотеза подтвердилась и наличие описания опыта у репетитора увеличивает цену на его услуги, изобразим это:"
      ],
      "metadata": {
        "id": "QRHhv3x6uqrU"
      }
    },
    {
      "cell_type": "code",
      "source": [
        "import matplotlib.pyplot as plt\n",
        "\n",
        "prices_with_experience = data[data['experience_desc'] == 1]['mean_price']\n",
        "prices_without_experience = data[data['experience_desc'] == 0]['mean_price']\n",
        "\n",
        "group_labels = ['Описание опыта', 'Без описания опыта']\n",
        "\n",
        "plt.boxplot([prices_with_experience, prices_without_experience], labels=group_labels)\n",
        "\n",
        "plt.xlabel('Группа')\n",
        "plt.ylabel('Цена занятия')\n",
        "plt.title('Сравнение цен занятий для репетиторов')\n",
        "\n",
        "plt.show()\n"
      ],
      "metadata": {
        "colab": {
          "base_uri": "https://localhost:8080/",
          "height": 472
        },
        "id": "OY64poAyuE_b",
        "outputId": "193d933c-9f77-4130-9f84-2f835c29a8cb"
      },
      "execution_count": null,
      "outputs": [
        {
          "output_type": "display_data",
          "data": {
            "text/plain": [
              "<Figure size 640x480 with 1 Axes>"
            ],
            "image/png": "[encoded data removed]"
          },
          "metadata": {}
        }
      ]
    }
  ]
}